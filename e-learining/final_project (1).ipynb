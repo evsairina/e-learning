{
 "cells": [
  {
   "cell_type": "markdown",
   "metadata": {},
   "source": [
    "# Задание 1\n",
    "Одной из основных задач аналитика в нашей команде является корректное проведение экспериментов. Для этого мы применяем метод A/B–тестирования. В ходе тестирования одной гипотезы целевой группе была предложена новая механика оплаты услуг на сайте, у контрольной группы оставалась базовая механика. В качестве задания Вам необходимо проанализировать итоги эксперимента и сделать вывод, стоит ли запускать новую механику оплаты на всех пользователей\n",
    "\n",
    "\n",
    "Предлагаем Вам ответить на следующие вопросы:\n",
    "\n",
    "На какие метрики Вы смотрите в ходе анализа и почему?\n",
    "Имеются ли различия в показателях и с чем они могут быть связаны?\n",
    "Являются ли эти различия статистически значимыми?\n",
    "Стоит ли запускать новую механику на всех пользователей?"
   ]
  },
  {
   "cell_type": "code",
   "execution_count": 1,
   "metadata": {},
   "outputs": [],
   "source": [
    "\"\"\" импортируем все нужные библиотеки\"\"\"\n",
    "\n",
    "import numpy as np\n",
    "import pandas as pd\n",
    "\n",
    "import seaborn as sns\n",
    "import matplotlib.pyplot as plt\n",
    "from scipy.stats import norm, mannwhitneyu\n",
    "from tqdm.auto import tqdm"
   ]
  },
  {
   "cell_type": "code",
   "execution_count": 2,
   "metadata": {},
   "outputs": [],
   "source": [
    "\"\"\" загружаем нужные данные\"\"\"\n",
    "\n",
    "group = pd.read_csv('/mnt/HC_Volume_18315164/home-jupyter/jupyter-i-evsa-22/final_project/Проект_2_groups.csv', sep=';')\n",
    "groups_add = pd.read_csv('/mnt/HC_Volume_18315164/home-jupyter/jupyter-i-evsa-22/final_project/Проект_2_group_add.csv', sep=',')\n",
    "active_studs = pd.read_csv('/mnt/HC_Volume_18315164/home-jupyter/jupyter-i-evsa-22/final_project/Проект_2_active_studs.csv', sep=',')\n",
    "checks = pd.read_csv('/mnt/HC_Volume_18315164/home-jupyter/jupyter-i-evsa-22/final_project/Проект_2_checks.csv', sep=';')"
   ]
  },
  {
   "cell_type": "code",
   "execution_count": 3,
   "metadata": {},
   "outputs": [
    {
     "data": {
      "text/plain": [
       "student_id      int64\n",
       "rev           float64\n",
       "dtype: object"
      ]
     },
     "execution_count": 3,
     "metadata": {},
     "output_type": "execute_result"
    }
   ],
   "source": [
    "\"\"\" Предобработка и анализ тек данных \"\"\"\n",
    "\n",
    "group.head()\n",
    "group.count()\n",
    "group.isna().sum()\n",
    "group.dtypes\n",
    "\n",
    "groups_add.head()\n",
    "groups_add.count()\n",
    "groups_add.isna().sum()\n",
    "groups_add.dtypes\n",
    "\n",
    "active_studs.head()\n",
    "active_studs.count()\n",
    "active_studs.isna().sum()\n",
    "active_studs.dtypes\n",
    "\n",
    "checks.head()\n",
    "checks.count()\n",
    "checks.isna().sum()\n",
    "checks.dtypes"
   ]
  },
  {
   "cell_type": "code",
   "execution_count": 4,
   "metadata": {},
   "outputs": [],
   "source": [
    "\"\"\" Переименуем столбцы для удобства дальнейшей работы \"\"\"\n",
    "\n",
    "group = group.rename(columns={'id': 'student_id'})\n",
    "groups_add = groups_add.rename(columns={'id': 'student_id'})"
   ]
  },
  {
   "cell_type": "markdown",
   "metadata": {},
   "source": [
    "Т.к. прислали доп файл с пользователями, то для понимания общей картины по пользователям и их разбивки по группам объединяем 2 датафрейма + проверяем на дубли"
   ]
  },
  {
   "cell_type": "code",
   "execution_count": 5,
   "metadata": {},
   "outputs": [],
   "source": [
    "\"\"\" объединяем 2 датафрейма \"\"\"\n",
    "\n",
    "all_groups = pd.concat([group, groups_add])"
   ]
  },
  {
   "cell_type": "code",
   "execution_count": 6,
   "metadata": {},
   "outputs": [
    {
     "data": {
      "text/plain": [
       "student_id    74576\n",
       "grp           74576\n",
       "dtype: int64"
      ]
     },
     "execution_count": 6,
     "metadata": {},
     "output_type": "execute_result"
    }
   ],
   "source": [
    "\"\"\" проверяем, что общее кол-во записей в результирующей таблице увеличилось \"\"\"\n",
    "\n",
    "all_groups.count()"
   ]
  },
  {
   "cell_type": "code",
   "execution_count": 7,
   "metadata": {},
   "outputs": [
    {
     "data": {
      "text/plain": [
       "array(['B', 'A'], dtype=object)"
      ]
     },
     "execution_count": 7,
     "metadata": {},
     "output_type": "execute_result"
    }
   ],
   "source": [
    "\"\"\" проверяем на дубли - попал ли студент в 2 группы и есть ли какие-то иные группы кроме A / B\"\"\"\n",
    "\n",
    "all_groups.groupby('student_id', as_index=False).count().query('grp>1')\n",
    "all_groups.grp.unique()"
   ]
  },
  {
   "cell_type": "code",
   "execution_count": 8,
   "metadata": {},
   "outputs": [
    {
     "data": {
      "text/plain": [
       "392"
      ]
     },
     "execution_count": 8,
     "metadata": {},
     "output_type": "execute_result"
    }
   ],
   "source": [
    "\"\"\" проверим действительно ли только активные пользователи совершали покупки \"\"\"\n",
    "\"\"\" всего 541 клиент совершил покупки согласно таблице checks \"\"\"\n",
    "\n",
    "df = active_studs.merge(checks, on='student_id', how='left')\n",
    "df.rev.count()"
   ]
  },
  {
   "cell_type": "markdown",
   "metadata": {},
   "source": [
    "Исходя из данных мы видим, что только 392 пользователя из 541 были активными и совершали покупки. Остальные 149 пользователей - это видимо ошибка в данных. Возможно неверно был присвоен признак активности, возможно это какие-то ошибочные платежи, но в любом случае т.к. проверить данные мы не можем, то учитывать эти 149 пользователей в нашем исследовании будет некорректно. \n",
    "\n",
    "Отталкиваться в дальнейшем будем от цифры 392 - это пользователи, которые были активны в день проведения эксперимента и которые совершили покупку"
   ]
  },
  {
   "cell_type": "code",
   "execution_count": 9,
   "metadata": {},
   "outputs": [
    {
     "data": {
      "text/html": [
       "<div>\n",
       "<style scoped>\n",
       "    .dataframe tbody tr th:only-of-type {\n",
       "        vertical-align: middle;\n",
       "    }\n",
       "\n",
       "    .dataframe tbody tr th {\n",
       "        vertical-align: top;\n",
       "    }\n",
       "\n",
       "    .dataframe thead th {\n",
       "        text-align: right;\n",
       "    }\n",
       "</style>\n",
       "<table border=\"1\" class=\"dataframe\">\n",
       "  <thead>\n",
       "    <tr style=\"text-align: right;\">\n",
       "      <th></th>\n",
       "      <th>grp</th>\n",
       "      <th>student_id</th>\n",
       "      <th>rev</th>\n",
       "    </tr>\n",
       "  </thead>\n",
       "  <tbody>\n",
       "    <tr>\n",
       "      <th>0</th>\n",
       "      <td>A</td>\n",
       "      <td>1538</td>\n",
       "      <td>78</td>\n",
       "    </tr>\n",
       "    <tr>\n",
       "      <th>1</th>\n",
       "      <td>B</td>\n",
       "      <td>6803</td>\n",
       "      <td>314</td>\n",
       "    </tr>\n",
       "  </tbody>\n",
       "</table>\n",
       "</div>"
      ],
      "text/plain": [
       "  grp  student_id  rev\n",
       "0   A        1538   78\n",
       "1   B        6803  314"
      ]
     },
     "execution_count": 9,
     "metadata": {},
     "output_type": "execute_result"
    }
   ],
   "source": [
    "\"\"\" добавляем данные по группам и смотрим разбивку \"\"\"\n",
    "\n",
    "result = df.merge(all_groups, on='student_id', how='left')    \n",
    "result.groupby('grp', as_index=False).count()"
   ]
  },
  {
   "cell_type": "markdown",
   "metadata": {},
   "source": [
    "В качестве метрики можно взять конверсию в покупку и средний чек т.к. у нас есть показатели про сумму покупок и количеству.\n",
    "Анализ этих двух метрик покажет, действительно ли удобна новая механика оплаты. Для простоты возьмем для анализа средний чек."
   ]
  },
  {
   "cell_type": "code",
   "execution_count": 10,
   "metadata": {},
   "outputs": [
    {
     "data": {
      "text/plain": [
       "count      78.000000\n",
       "mean      933.589744\n",
       "std       919.932711\n",
       "min       199.000000\n",
       "25%       290.000000\n",
       "50%       585.000000\n",
       "75%      1114.750000\n",
       "max      3660.000000\n",
       "Name: rev, dtype: float64"
      ]
     },
     "execution_count": 10,
     "metadata": {},
     "output_type": "execute_result"
    }
   ],
   "source": [
    "\"\"\" проверяем медианы по группам \"\"\"\n",
    "result.query('grp==\"A\"').rev.describe()"
   ]
  },
  {
   "cell_type": "code",
   "execution_count": 11,
   "metadata": {},
   "outputs": [
    {
     "data": {
      "text/plain": [
       "count     314.000000\n",
       "mean     1257.878992\n",
       "std       790.864254\n",
       "min       199.000000\n",
       "25%       511.750000\n",
       "50%      1140.000000\n",
       "75%      1900.000000\n",
       "max      4650.000000\n",
       "Name: rev, dtype: float64"
      ]
     },
     "execution_count": 11,
     "metadata": {},
     "output_type": "execute_result"
    }
   ],
   "source": [
    "result.query('grp==\"B\"').rev.describe()"
   ]
  },
  {
   "cell_type": "markdown",
   "metadata": {},
   "source": [
    "Видим, что медианные значения в те"
   ]
  },
  {
   "cell_type": "code",
   "execution_count": 12,
   "metadata": {},
   "outputs": [],
   "source": [
    "A = result.dropna().query('grp==\"A\"').rev\n",
    "B = result.dropna().query('grp==\"B\"').rev"
   ]
  },
  {
   "cell_type": "code",
   "execution_count": 13,
   "metadata": {},
   "outputs": [
    {
     "name": "stderr",
     "output_type": "stream",
     "text": [
      "/opt/tljh/user/lib/python3.7/site-packages/seaborn/distributions.py:2557: FutureWarning: `distplot` is a deprecated function and will be removed in a future version. Please adapt your code to use either `displot` (a figure-level function with similar flexibility) or `histplot` (an axes-level function for histograms).\n",
      "  warnings.warn(msg, FutureWarning)\n"
     ]
    },
    {
     "data": {
      "text/plain": [
       "<matplotlib.axes._subplots.AxesSubplot at 0x7f7325cb9f98>"
      ]
     },
     "execution_count": 13,
     "metadata": {},
     "output_type": "execute_result"
    },
    {
     "data": {
      "image/png": "[encoded data removed]",
      "text/plain": [
       "<Figure size 432x288 with 1 Axes>"
      ]
     },
     "metadata": {
      "needs_background": "light"
     },
     "output_type": "display_data"
    }
   ],
   "source": [
    "\"\"\" Визуализируем график для оценки распределения по группе A\"\"\"\n",
    "sns.distplot(A, kde = False)"
   ]
  },
  {
   "cell_type": "code",
   "execution_count": 14,
   "metadata": {},
   "outputs": [
    {
     "data": {
      "text/plain": [
       "<matplotlib.axes._subplots.AxesSubplot at 0x7f73236891d0>"
      ]
     },
     "execution_count": 14,
     "metadata": {},
     "output_type": "execute_result"
    },
    {
     "data": {
      "image/png": "[encoded data removed]",
      "text/plain": [
       "<Figure size 432x288 with 1 Axes>"
      ]
     },
     "metadata": {
      "needs_background": "light"
     },
     "output_type": "display_data"
    }
   ],
   "source": [
    "\"\"\" Визуализируем график для оценки распределения по группе B\"\"\"\n",
    "sns.distplot(B, kde = False)"
   ]
  },
  {
   "cell_type": "markdown",
   "metadata": {},
   "source": [
    "Уже даже визуально понятно, что распределение в этих двух группах не нормальное (хотя можно было и прогнать распределение по Шапиро-Уилка),но в данном случае считаю это избыточным. Исходя из этих вводных Т-тест применять не буду\n",
    "\n",
    "В случае ненормального распределения можно попробовать воспользоваться критерием Манна Уитни, но проблема в интерпретируемости результатов. Этот критерий проверяет только гипотезу о равенстве распределений.\n",
    "\n",
    "Поэтому для оценки равенства медиан (потому что есть выбросы) буду применять бутстрап\n",
    "\n",
    "Гипотезы:\n",
    "\n",
    "H0 - изменение механики оплаты НЕ сказалось на среднем чеке;\n",
    "H1 - изменение механики оплаты сказалось на среднем чеке;"
   ]
  },
  {
   "cell_type": "code",
   "execution_count": 15,
   "metadata": {},
   "outputs": [],
   "source": [
    "def get_bootstrap(\n",
    "    A, # числовые значения первой выборки\n",
    "    B, # числовые значения второй выборки\n",
    "    boot_it = 1000, # количество бутстрэп-подвыборок\n",
    "    statistic = np.mean, # интересующая нас статистика\n",
    "    bootstrap_conf_level = 0.95 # уровень значимости\n",
    "):\n",
    "    boot_len = max([len(A), len(B)])\n",
    "    boot_data = []\n",
    "    for i in tqdm(range(boot_it)): # извлекаем подвыборки\n",
    "        samples_1 = A.sample(\n",
    "            boot_len, \n",
    "            replace = True # параметр возвращения\n",
    "        ).values\n",
    "        \n",
    "        samples_2 = B.sample(\n",
    "            boot_len, \n",
    "            replace = True\n",
    "        ).values\n",
    "        \n",
    "        boot_data.append(statistic(samples_1-samples_2)) # mean() - применяем статистику\n",
    "        \n",
    "    pd_boot_data = pd.DataFrame(boot_data)\n",
    "        \n",
    "    left_quant = (1 - bootstrap_conf_level)/2\n",
    "    right_quant = 1 - (1 - bootstrap_conf_level) / 2\n",
    "    ci = pd_boot_data.quantile([left_quant, right_quant])\n",
    "        \n",
    "    p_1 = norm.cdf(\n",
    "        x = 0, \n",
    "        loc = np.mean(boot_data), \n",
    "        scale = np.std(boot_data)\n",
    "    )\n",
    "    p_2 = norm.cdf(\n",
    "        x = 0, \n",
    "        loc = -np.mean(boot_data), \n",
    "        scale = np.std(boot_data)\n",
    "    )\n",
    "    p_value = min(p_1, p_2) * 2\n",
    "        \n",
    "    # Визуализация\n",
    "    plt.hist(pd_boot_data[0], bins = 50)\n",
    "    \n",
    "    plt.style.use('ggplot')\n",
    "    plt.vlines(ci,ymin=0,ymax=50,linestyle='--')\n",
    "    plt.xlabel('boot_data')\n",
    "    plt.ylabel('frequency')\n",
    "    plt.title(\"Histogram of boot_data\")\n",
    "    plt.show()\n",
    "       \n",
    "    return {\"boot_data\": boot_data, \n",
    "            \"ci\": ci, \n",
    "            \"p_value\": p_value}"
   ]
  },
  {
   "cell_type": "code",
   "execution_count": 16,
   "metadata": {},
   "outputs": [
    {
     "data": {
      "application/vnd.jupyter.widget-view+json": {
       "model_id": "576613ab00a24b408cd6a8e772811018",
       "version_major": 2,
       "version_minor": 0
      },
      "text/plain": [
       "HBox(children=(FloatProgress(value=0.0, max=2000.0), HTML(value='')))"
      ]
     },
     "metadata": {},
     "output_type": "display_data"
    },
    {
     "name": "stdout",
     "output_type": "stream",
     "text": [
      "\n"
     ]
    },
    {
     "data": {
      "image/png": "[encoded data removed]",
      "text/plain": [
       "<Figure size 432x288 with 1 Axes>"
      ]
     },
     "metadata": {
      "needs_background": "light"
     },
     "output_type": "display_data"
    }
   ],
   "source": [
    "booted_data = get_bootstrap(A, B, boot_it = 2000)"
   ]
  },
  {
   "cell_type": "markdown",
   "metadata": {},
   "source": [
    "Сравнение средних с помощью бутстрап метода показывает, что между нашими данными есть различия - при вычитании значений из бутстрапированной выборки по группе А значений из выборки по группе В 0 не попадает в доверительный интервал,  следовательно, мы отклоняем нулевую гипотезу о равенстве средних чеков и делаем вывод, что средний чек в тестовой группе значимо выше, чем в контрольной."
   ]
  },
  {
   "cell_type": "markdown",
   "metadata": {},
   "source": [
    "Вывод: Cредний чек в тестовой группе имеет значимо более высокие показатели, чем в контрольной, можно запустить новую механику на всех пользователей."
   ]
  },
  {
   "cell_type": "markdown",
   "metadata": {},
   "source": [
    "# Задание 2\n"
   ]
  },
  {
   "cell_type": "markdown",
   "metadata": {},
   "source": [
    "Образовательные курсы состоят из различных уроков, каждый из которых состоит из нескольких маленьких заданий. Каждое такое маленькое задание называется \"горошиной\".\n",
    "\n",
    "Назовём очень усердным учеником того пользователя, который хотя бы раз за текущий месяц правильно решил 20 горошин.\n",
    "\n",
    "Необходимо написать оптимальный запрос, который даст информацию о количестве очень усердных студентов за март 2020 года."
   ]
  },
  {
   "cell_type": "code",
   "execution_count": 17,
   "metadata": {},
   "outputs": [],
   "source": [
    "\"\"\" импортируем нужные библиотеки \"\"\" \n",
    "import pandahouse as ph\n",
    "import pandas as pd"
   ]
  },
  {
   "cell_type": "code",
   "execution_count": 18,
   "metadata": {},
   "outputs": [],
   "source": [
    "\"\"\" объявляем параметры подключения \"\"\" \n",
    "connection = dict(database='dev',\n",
    "                  host='https://clickhouse.lab.karpov.courses',\n",
    "                  user='student',\n",
    "                  password='dpo_python_2020')"
   ]
  },
  {
   "cell_type": "code",
   "execution_count": 19,
   "metadata": {},
   "outputs": [
    {
     "data": {
      "text/html": [
       "<div>\n",
       "<style scoped>\n",
       "    .dataframe tbody tr th:only-of-type {\n",
       "        vertical-align: middle;\n",
       "    }\n",
       "\n",
       "    .dataframe tbody tr th {\n",
       "        vertical-align: top;\n",
       "    }\n",
       "\n",
       "    .dataframe thead th {\n",
       "        text-align: right;\n",
       "    }\n",
       "</style>\n",
       "<table border=\"1\" class=\"dataframe\">\n",
       "  <thead>\n",
       "    <tr style=\"text-align: right;\">\n",
       "      <th></th>\n",
       "      <th>cnt_st</th>\n",
       "    </tr>\n",
       "  </thead>\n",
       "  <tbody>\n",
       "    <tr>\n",
       "      <th>0</th>\n",
       "      <td>4</td>\n",
       "    </tr>\n",
       "  </tbody>\n",
       "</table>\n",
       "</div>"
      ],
      "text/plain": [
       "   cnt_st\n",
       "0       4"
      ]
     },
     "execution_count": 19,
     "metadata": {},
     "output_type": "execute_result"
    }
   ],
   "source": [
    "\"\"\" получаем данные из clickhouse в pandas dataframe, считаем данные не за март'20, а за октябрь'21 т.к. в таблице отсутствуют \n",
    "данные за нужный период \"\"\"\n",
    "\n",
    "query_1 = \"\"\"\n",
    "select count(*) as cnt_st\n",
    "from (\n",
    "\n",
    "    select \n",
    "        st_id,\n",
    "        sum(correct) as cnt_peas\n",
    "    from default.peas\n",
    "    where toStartOfMonth(timest) = '2021-10-01'\n",
    "    and correct = 1\n",
    "    group by st_id\n",
    "    limit 10 ) as base\n",
    "where base.cnt_peas>=20\n",
    "\"\"\"\n",
    "df = ph.read_clickhouse(query_1, connection=connection)\n",
    "df "
   ]
  },
  {
   "cell_type": "markdown",
   "metadata": {},
   "source": [
    "Ответ: за октябрь 4 очень усердных ученика"
   ]
  },
  {
   "cell_type": "markdown",
   "metadata": {},
   "source": [
    "Образовательная платформа предлагает пройти студентам курсы по модели trial: студент может решить бесплатно лишь 30 горошин в день. Для неограниченного количества заданий в определенной дисциплине студенту необходимо приобрести полный доступ. Команда провела эксперимент, где был протестирован новый экран оплаты.\n",
    "\n",
    "\n",
    "Необходимо в одном запросе выгрузить следующую информацию о группах пользователей:\n",
    "\n",
    "ARPU \n",
    "ARPAU \n",
    "CR в покупку \n",
    "СR активного пользователя в покупку \n",
    "CR пользователя из активности по математике (subject = ’math’) в покупку курса по математике\n",
    "ARPU считается относительно всех пользователей, попавших в группы.\n",
    "\n",
    "Активным считается пользователь, за все время решивший больше 10 задач правильно в любых дисциплинах.\n",
    "\n",
    "Активным по математике считается пользователь, за все время решивший 2 или больше задач правильно по математике."
   ]
  },
  {
   "cell_type": "code",
   "execution_count": 20,
   "metadata": {},
   "outputs": [
    {
     "data": {
      "text/html": [
       "<div>\n",
       "<style scoped>\n",
       "    .dataframe tbody tr th:only-of-type {\n",
       "        vertical-align: middle;\n",
       "    }\n",
       "\n",
       "    .dataframe tbody tr th {\n",
       "        vertical-align: top;\n",
       "    }\n",
       "\n",
       "    .dataframe thead th {\n",
       "        text-align: right;\n",
       "    }\n",
       "</style>\n",
       "<table border=\"1\" class=\"dataframe\">\n",
       "  <thead>\n",
       "    <tr style=\"text-align: right;\">\n",
       "      <th></th>\n",
       "      <th>test_grp</th>\n",
       "      <th>ARPU</th>\n",
       "      <th>ARPAU</th>\n",
       "      <th>CR</th>\n",
       "      <th>CR_act</th>\n",
       "      <th>CR_math</th>\n",
       "    </tr>\n",
       "  </thead>\n",
       "  <tbody>\n",
       "    <tr>\n",
       "      <th>0</th>\n",
       "      <td>control</td>\n",
       "      <td>4540.98</td>\n",
       "      <td>10905.51</td>\n",
       "      <td>0.05</td>\n",
       "      <td>0.11</td>\n",
       "      <td>0.06</td>\n",
       "    </tr>\n",
       "    <tr>\n",
       "      <th>1</th>\n",
       "      <td>pilot</td>\n",
       "      <td>11508.47</td>\n",
       "      <td>35364.58</td>\n",
       "      <td>0.11</td>\n",
       "      <td>0.26</td>\n",
       "      <td>0.10</td>\n",
       "    </tr>\n",
       "  </tbody>\n",
       "</table>\n",
       "</div>"
      ],
      "text/plain": [
       "  test_grp      ARPU     ARPAU    CR  CR_act  CR_math\n",
       "0  control   4540.98  10905.51  0.05    0.11     0.06\n",
       "1    pilot  11508.47  35364.58  0.11    0.26     0.10"
      ]
     },
     "execution_count": 20,
     "metadata": {},
     "output_type": "execute_result"
    }
   ],
   "source": [
    "query_2 = \"\"\"\n",
    "\n",
    "with base as (\n",
    "/*ученики - их группа, всего 600 чел*/\n",
    "select  toInt32(st.st_id) as st_id,\n",
    "        st.test_grp\n",
    "from default.studs as st\n",
    "),\n",
    "\n",
    "result as (\n",
    "\n",
    "            /*общая информация по оплатам и правильно решенным задачам*/\n",
    "                    select base.st_id as st_id,\n",
    "                            base.test_grp as test_grp,\n",
    "                            money.money_all as money_all,\n",
    "                            cnt_peas.cnt_right_peas as cnt_right_peas,\n",
    "                            money.paid_math as paid_math,\n",
    "                            cnt_peas.corr_math as cnt_right_math\n",
    "                            \n",
    "                    from base \n",
    "                    left join (\n",
    "                                /*сумма оплат по ученикам*/\n",
    "                                select toInt32(ch.st_id) as st_id,\n",
    "                                        sum(money) as money_all,\n",
    "                                        sum(case when money>0 and subject='Math' then 1 else 0 end) as paid_math\n",
    "                                from default.final_project_check as ch \n",
    "                                group by st_id\n",
    "                                ) as money on money.st_id=base.st_id\n",
    "\n",
    "                    left join (\n",
    "                                /*кол-во правильно решенных задач по предметам*/\n",
    "                                select toInt32(p.st_id) as st_id,\n",
    "                                        sum(correct) as cnt_right_peas,\n",
    "                                        sum(case when p.subject='Math' and p.correct>0 then 1 else 0 end) as corr_math\n",
    "                                from default.peas as p\n",
    "                                group by p.st_id\n",
    "                                ) as cnt_peas on cnt_peas.st_id = base.st_id\n",
    "                    ) \n",
    "            \n",
    "select result.test_grp,\n",
    "\n",
    "        /*средний доход на 1 пользователя*/\n",
    "        round(sum(result.money_all) / count(distinct result.st_id),2) as ARPU,\n",
    "        \n",
    "        /*средний доход на 1 активного пользователя*/\n",
    "        round(sum(result.money_all) / sum(case when result.cnt_right_peas>10 then 1 else 0 end),2) as ARPAU,\n",
    "        \n",
    "        /*конверсия в покупку = все кто купил / все пользователи */\n",
    "        round(sum(case when money_all>0 then 1 else 0 end)/ count(distinct result.st_id),2) as CR,\n",
    "        \n",
    "        \n",
    "         /*СR активного пользователя в покупку = купил курс + активный / все активные пользователи */\n",
    "         round(sum(case when result.money_all>0 and result.cnt_right_peas>10 then 1 else 0 end) / sum(case when result.cnt_right_peas>10 then 1 else 0 end),2) as CR_act,\n",
    "         \n",
    "         /*CR для математики = покупка курса по математике / активный пользователь по математике*/\n",
    "         round(sum(case when result.paid_math>0 and result.cnt_right_math>1 then 1 else 0 end) / sum(case when result.cnt_right_math>1 then 1 else 0 end),2) as CR_math\n",
    "        \n",
    "from result\n",
    "group by result.test_grp\n",
    "\"\"\"            \n",
    "df_2 = ph.read_clickhouse(query_2, connection=connection)\n",
    "df_2"
   ]
  },
  {
   "cell_type": "markdown",
   "metadata": {},
   "source": [
    "# Задание 3"
   ]
  },
  {
   "cell_type": "markdown",
   "metadata": {},
   "source": [
    "Реализуйте функцию, которая будет автоматически подгружать информацию из дополнительного файла groups_add.csv (заголовки могут отличаться) и на основании дополнительных параметров пересчитывать метрики."
   ]
  },
  {
   "cell_type": "code",
   "execution_count": 21,
   "metadata": {},
   "outputs": [],
   "source": [
    "import pandas as pd"
   ]
  },
  {
   "cell_type": "code",
   "execution_count": 22,
   "metadata": {},
   "outputs": [],
   "source": [
    "def update_metrics(group_add):\n",
    "    # загружаем все данные\n",
    "    group_add=pd.read_csv(group_add, sep=',')\n",
    "    groups = pd.read_csv('/mnt/HC_Volume_18315164/home-jupyter/jupyter-i-evsa-22/final_project/Проект_2_groups.csv', sep=';')\n",
    "    active_studs = pd.read_csv('/mnt/HC_Volume_18315164/home-jupyter/jupyter-i-evsa-22/final_project/Проект_2_active_studs.csv', ',')\n",
    "    checks = pd.read_csv('/mnt/HC_Volume_18315164/home-jupyter/jupyter-i-evsa-22/final_project/Проект_2_checks.csv', ';')\n",
    "    \n",
    "    groups_all = pd.concat([groups, group_add])\n",
    "    # приводим столбцы к одноименному названию\n",
    "    groups_all = groups_all.rename(columns={'id': 'student_id'})\n",
    "   \n",
    "    # оставляем только тех клиентов, которые были активны в дни проведения эксперимента    \n",
    "    df = active_studs.merge(groups_all, on='student_id', how='left').merge(checks, on='student_id', how='left')\n",
    "\n",
    "    # рассчитываем конверсии    \n",
    "    CR_Agroup = ((df.query('grp==\"A\"').rev.count() / df.query('grp==\"A\"').student_id.count()) * 100).round(2)\n",
    "    CR_Bgroup = ((df.query('grp==\"B\"').rev.count() / df.query('grp==\"B\"').student_id.count()) * 100).round(2)\n",
    "    \n",
    "    # рассчитываем ARPPU для пользователей из группы А \n",
    "    ARPPU_A = df.query('grp == \"A\"').rev.median()\n",
    "\n",
    "    # рассчитываем ARPPU для пользователей из группы B   \n",
    "    ARPPU_B = df.query('grp == \"B\"').rev.median()\n",
    "    \n",
    "    # фиксируем показатели в df\n",
    "    \n",
    "    data = {'CR': [CR_Agroup, CR_Bgroup], 'ARPPU': [ARPPU_A, ARPPU_B]}\n",
    "    metrics = pd.DataFrame(data, columns=['CR', 'ARPPU']).reset_index().rename(columns={'index': 'group'})\n",
    "    \n",
    "    return metrics"
   ]
  },
  {
   "cell_type": "code",
   "execution_count": 23,
   "metadata": {},
   "outputs": [
    {
     "data": {
      "text/html": [
       "<div>\n",
       "<style scoped>\n",
       "    .dataframe tbody tr th:only-of-type {\n",
       "        vertical-align: middle;\n",
       "    }\n",
       "\n",
       "    .dataframe tbody tr th {\n",
       "        vertical-align: top;\n",
       "    }\n",
       "\n",
       "    .dataframe thead th {\n",
       "        text-align: right;\n",
       "    }\n",
       "</style>\n",
       "<table border=\"1\" class=\"dataframe\">\n",
       "  <thead>\n",
       "    <tr style=\"text-align: right;\">\n",
       "      <th></th>\n",
       "      <th>group</th>\n",
       "      <th>CR</th>\n",
       "      <th>ARPPU</th>\n",
       "    </tr>\n",
       "  </thead>\n",
       "  <tbody>\n",
       "    <tr>\n",
       "      <th>0</th>\n",
       "      <td>0</td>\n",
       "      <td>5.07</td>\n",
       "      <td>585.0</td>\n",
       "    </tr>\n",
       "    <tr>\n",
       "      <th>1</th>\n",
       "      <td>1</td>\n",
       "      <td>4.62</td>\n",
       "      <td>1140.0</td>\n",
       "    </tr>\n",
       "  </tbody>\n",
       "</table>\n",
       "</div>"
      ],
      "text/plain": [
       "   group    CR   ARPPU\n",
       "0      0  5.07   585.0\n",
       "1      1  4.62  1140.0"
      ]
     },
     "execution_count": 23,
     "metadata": {},
     "output_type": "execute_result"
    }
   ],
   "source": [
    "update_metrics('/mnt/HC_Volume_18315164/home-jupyter/jupyter-i-evsa-22/final_project/Проект_2_group_add.csv')"
   ]
  },
  {
   "cell_type": "code",
   "execution_count": 24,
   "metadata": {},
   "outputs": [],
   "source": [
    "t = update_metrics('/mnt/HC_Volume_18315164/home-jupyter/jupyter-i-evsa-22/final_project/Проект_2_group_add.csv')"
   ]
  },
  {
   "cell_type": "markdown",
   "metadata": {},
   "source": [
    "# Реализуйте функцию, которая будет строить графики по получаемым метрикам."
   ]
  },
  {
   "cell_type": "code",
   "execution_count": 25,
   "metadata": {},
   "outputs": [],
   "source": [
    "def make_plot(t):\n",
    "    sns.set(rc={'figure.figsize': (20, 7)})\n",
    "    fig, ax = plt.subplots(1, 2)\n",
    "    sns.barplot(x='group', y='CR', data=t, ax=ax[0])\n",
    "    sns.barplot(x='group', y='ARPPU', data=t, ax=ax[1])"
   ]
  },
  {
   "cell_type": "code",
   "execution_count": 26,
   "metadata": {},
   "outputs": [
    {
     "data": {
      "image/png": "[encoded data removed]",
      "text/plain": [
       "<Figure size 1440x504 with 2 Axes>"
      ]
     },
     "metadata": {},
     "output_type": "display_data"
    }
   ],
   "source": [
    "make_plot(t)"
   ]
  },
  {
   "cell_type": "code",
   "execution_count": null,
   "metadata": {},
   "outputs": [],
   "source": []
  }
 ],
 "metadata": {
  "kernelspec": {
   "display_name": "Python 3",
   "language": "python",
   "name": "python3"
  },
  "language_info": {
   "codemirror_mode": {
    "name": "ipython",
    "version": 3
   },
   "file_extension": ".py",
   "mimetype": "text/x-python",
   "name": "python",
   "nbconvert_exporter": "python",
   "pygments_lexer": "ipython3",
   "version": "3.7.3"
  }
 },
 "nbformat": 4,
 "nbformat_minor": 4
}
