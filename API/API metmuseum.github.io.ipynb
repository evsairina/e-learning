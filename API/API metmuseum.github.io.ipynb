{
 "cells": [
  {
   "cell_type": "markdown",
   "metadata": {},
   "source": [
    "# Задание"
   ]
  },
  {
   "cell_type": "markdown",
   "metadata": {},
   "source": [
    "Ваша задача – найти все произведения, связанные с подсолнухами. \n",
    "\n",
    "Внимательно посмотрите на формат ответа и сохраните id полученных объектов в список sunflower_ids\n"
   ]
  },
  {
   "cell_type": "code",
   "execution_count": 14,
   "metadata": {},
   "outputs": [],
   "source": [
    "# загружаем библиотеки\n",
    "\n",
    "import requests\n",
    "import pandas as pd\n",
    "import seaborn as sns\n",
    "import matplotlib.pyplot as plt\n",
    "import json\n",
    "\n",
    "import numpy as np"
   ]
  },
  {
   "cell_type": "code",
   "execution_count": 3,
   "metadata": {},
   "outputs": [],
   "source": [
    "# считываем данные по слову \"sunflowers\"\n",
    "r = requests.get('https://collectionapi.metmuseum.org/public/collection/v1/search?q=sunflowers')\n",
    "res = r.json()"
   ]
  },
  {
   "cell_type": "code",
   "execution_count": 5,
   "metadata": {},
   "outputs": [
    {
     "data": {
      "text/html": [
       "<div>\n",
       "<style scoped>\n",
       "    .dataframe tbody tr th:only-of-type {\n",
       "        vertical-align: middle;\n",
       "    }\n",
       "\n",
       "    .dataframe tbody tr th {\n",
       "        vertical-align: top;\n",
       "    }\n",
       "\n",
       "    .dataframe thead th {\n",
       "        text-align: right;\n",
       "    }\n",
       "</style>\n",
       "<table border=\"1\" class=\"dataframe\">\n",
       "  <thead>\n",
       "    <tr style=\"text-align: right;\">\n",
       "      <th></th>\n",
       "      <th>total</th>\n",
       "      <th>objectIDs</th>\n",
       "    </tr>\n",
       "  </thead>\n",
       "  <tbody>\n",
       "    <tr>\n",
       "      <th>0</th>\n",
       "      <td>87</td>\n",
       "      <td>436524</td>\n",
       "    </tr>\n",
       "    <tr>\n",
       "      <th>1</th>\n",
       "      <td>87</td>\n",
       "      <td>484935</td>\n",
       "    </tr>\n",
       "    <tr>\n",
       "      <th>2</th>\n",
       "      <td>87</td>\n",
       "      <td>437112</td>\n",
       "    </tr>\n",
       "    <tr>\n",
       "      <th>3</th>\n",
       "      <td>87</td>\n",
       "      <td>210191</td>\n",
       "    </tr>\n",
       "    <tr>\n",
       "      <th>4</th>\n",
       "      <td>87</td>\n",
       "      <td>431264</td>\n",
       "    </tr>\n",
       "  </tbody>\n",
       "</table>\n",
       "</div>"
      ],
      "text/plain": [
       "   total  objectIDs\n",
       "0     87     436524\n",
       "1     87     484935\n",
       "2     87     437112\n",
       "3     87     210191\n",
       "4     87     431264"
      ]
     },
     "execution_count": 5,
     "metadata": {},
     "output_type": "execute_result"
    }
   ],
   "source": [
    "# загружаем данные в датафрейм\n",
    "df = pd.DataFrame(res)\n",
    "df.head(5)"
   ]
  },
  {
   "cell_type": "code",
   "execution_count": 8,
   "metadata": {},
   "outputs": [],
   "source": [
    "# сохраняем id полученных объектов в список\n",
    "\n",
    "list_df = df['objectIDs'].to_list()\n",
    "\n",
    "# оставляем только уникальные значения в списке\n",
    "list_df = set(list_df)"
   ]
  },
  {
   "cell_type": "code",
   "execution_count": null,
   "metadata": {},
   "outputs": [],
   "source": [
    "for i in df['objectIDs']:\n",
    "    if i == 437329:\n",
    "        print('ok!')"
   ]
  },
  {
   "cell_type": "markdown",
   "metadata": {},
   "source": [
    "Выполните запрос для объекта 437980. Для проверки соотнесите полученные параметры с их значениями"
   ]
  },
  {
   "cell_type": "code",
   "execution_count": 13,
   "metadata": {},
   "outputs": [
    {
     "data": {
      "text/plain": [
       "'825'"
      ]
     },
     "execution_count": 13,
     "metadata": {},
     "output_type": "execute_result"
    }
   ],
   "source": [
    "# считываем данные по ObjectId 437980\n",
    "r_test = requests.get(f'https://collectionapi.metmuseum.org/public/collection/v1/objects/437980')\n",
    "\n",
    "# переводим данные в формат json\n",
    "obj_test = r_test.json()\n",
    "\n",
    "\n",
    "obj_test['artistDisplayName']\n",
    "obj_test['culture']\n",
    "obj_test['GalleryNumber']"
   ]
  },
  {
   "cell_type": "markdown",
   "metadata": {},
   "source": [
    "Теперь напишите цикл, с помощью которого будет собрана информация об объектах, которые были получены на 2 шаге. \n",
    "Результаты запишите в датафрейм, а именно – следующие параметры:\n",
    "\n",
    "objectID – id объекта\n",
    "title – название\n",
    "artistDisplayName – автор\n",
    "department – департамент\n",
    "objectBeginDate – дата (начало)\n",
    "objectEndDate – дата (конец)\n",
    "period – название периода\n",
    "objectName – название/категория объекта\n",
    "culture – культура\n",
    "\n",
    "Сколько объектов относятся к японской культуре? (culture –Japan)"
   ]
  },
  {
   "cell_type": "code",
   "execution_count": 15,
   "metadata": {},
   "outputs": [],
   "source": [
    "# создаем пустой список\n",
    "\n",
    "obj=[]\n",
    "\n",
    "# создаем цикл, чтобы пройтись по всем objectIDs, которые получились у нас на предыдущем шаге\n",
    "# по каждому ID собираем данные, конвертируем данные в json и записываем в список\n",
    "for i in df['objectIDs']:\n",
    "    r_test = requests.get('https://collectionapi.metmuseum.org/public/collection/v1/objects/' + str(i))\n",
    "    res = r_test.json()\n",
    "    obj.append(res)\n"
   ]
  },
  {
   "cell_type": "code",
   "execution_count": 17,
   "metadata": {},
   "outputs": [
    {
     "data": {
      "text/html": [
       "<div>\n",
       "<style scoped>\n",
       "    .dataframe tbody tr th:only-of-type {\n",
       "        vertical-align: middle;\n",
       "    }\n",
       "\n",
       "    .dataframe tbody tr th {\n",
       "        vertical-align: top;\n",
       "    }\n",
       "\n",
       "    .dataframe thead th {\n",
       "        text-align: right;\n",
       "    }\n",
       "</style>\n",
       "<table border=\"1\" class=\"dataframe\">\n",
       "  <thead>\n",
       "    <tr style=\"text-align: right;\">\n",
       "      <th></th>\n",
       "      <th>objectID</th>\n",
       "      <th>isHighlight</th>\n",
       "      <th>accessionNumber</th>\n",
       "      <th>accessionYear</th>\n",
       "      <th>isPublicDomain</th>\n",
       "      <th>primaryImage</th>\n",
       "      <th>primaryImageSmall</th>\n",
       "      <th>additionalImages</th>\n",
       "      <th>constituents</th>\n",
       "      <th>department</th>\n",
       "      <th>...</th>\n",
       "      <th>rightsAndReproduction</th>\n",
       "      <th>linkResource</th>\n",
       "      <th>metadataDate</th>\n",
       "      <th>repository</th>\n",
       "      <th>objectURL</th>\n",
       "      <th>tags</th>\n",
       "      <th>objectWikidata_URL</th>\n",
       "      <th>isTimelineWork</th>\n",
       "      <th>GalleryNumber</th>\n",
       "      <th>message</th>\n",
       "    </tr>\n",
       "  </thead>\n",
       "  <tbody>\n",
       "    <tr>\n",
       "      <th>0</th>\n",
       "      <td>436524.0</td>\n",
       "      <td>False</td>\n",
       "      <td>49.41</td>\n",
       "      <td>1949</td>\n",
       "      <td>True</td>\n",
       "      <td>https://images.metmuseum.org/CRDImages/ep/orig...</td>\n",
       "      <td>https://images.metmuseum.org/CRDImages/ep/web-...</td>\n",
       "      <td>[]</td>\n",
       "      <td>[{'constituentID': 161947, 'role': 'Artist', '...</td>\n",
       "      <td>European Paintings</td>\n",
       "      <td>...</td>\n",
       "      <td></td>\n",
       "      <td></td>\n",
       "      <td>2022-10-20T04:55:06.267Z</td>\n",
       "      <td>Metropolitan Museum of Art, New York, NY</td>\n",
       "      <td>https://www.metmuseum.org/art/collection/searc...</td>\n",
       "      <td>[{'term': 'Still Life', 'AAT_URL': 'http://voc...</td>\n",
       "      <td>https://www.wikidata.org/wiki/Q9213165</td>\n",
       "      <td>False</td>\n",
       "      <td>825</td>\n",
       "      <td>NaN</td>\n",
       "    </tr>\n",
       "    <tr>\n",
       "      <th>1</th>\n",
       "      <td>484935.0</td>\n",
       "      <td>False</td>\n",
       "      <td>1987.5</td>\n",
       "      <td>1987</td>\n",
       "      <td>False</td>\n",
       "      <td></td>\n",
       "      <td></td>\n",
       "      <td>[]</td>\n",
       "      <td>[{'constituentID': 165473, 'role': 'Artist', '...</td>\n",
       "      <td>Modern and Contemporary Art</td>\n",
       "      <td>...</td>\n",
       "      <td></td>\n",
       "      <td></td>\n",
       "      <td>2022-09-09T04:54:13.663Z</td>\n",
       "      <td>Metropolitan Museum of Art, New York, NY</td>\n",
       "      <td>https://www.metmuseum.org/art/collection/searc...</td>\n",
       "      <td>[{'term': 'Sunflowers', 'AAT_URL': 'http://voc...</td>\n",
       "      <td>https://www.wikidata.org/wiki/Q20195878</td>\n",
       "      <td>False</td>\n",
       "      <td></td>\n",
       "      <td>NaN</td>\n",
       "    </tr>\n",
       "    <tr>\n",
       "      <th>2</th>\n",
       "      <td>437112.0</td>\n",
       "      <td>False</td>\n",
       "      <td>29.100.107</td>\n",
       "      <td>1929</td>\n",
       "      <td>False</td>\n",
       "      <td></td>\n",
       "      <td></td>\n",
       "      <td>[]</td>\n",
       "      <td>[{'constituentID': 162135, 'role': 'Artist', '...</td>\n",
       "      <td>European Paintings</td>\n",
       "      <td>...</td>\n",
       "      <td></td>\n",
       "      <td></td>\n",
       "      <td>2022-10-20T04:55:06.267Z</td>\n",
       "      <td>Metropolitan Museum of Art, New York, NY</td>\n",
       "      <td>https://www.metmuseum.org/art/collection/searc...</td>\n",
       "      <td>[{'term': 'Still Life', 'AAT_URL': 'http://voc...</td>\n",
       "      <td>https://www.wikidata.org/wiki/Q19905274</td>\n",
       "      <td>False</td>\n",
       "      <td>819</td>\n",
       "      <td>NaN</td>\n",
       "    </tr>\n",
       "    <tr>\n",
       "      <th>3</th>\n",
       "      <td>210191.0</td>\n",
       "      <td>False</td>\n",
       "      <td>2000.126</td>\n",
       "      <td>2000</td>\n",
       "      <td>False</td>\n",
       "      <td></td>\n",
       "      <td></td>\n",
       "      <td>[]</td>\n",
       "      <td>[{'constituentID': 38872, 'role': 'Manufacture...</td>\n",
       "      <td>European Sculpture and Decorative Arts</td>\n",
       "      <td>...</td>\n",
       "      <td></td>\n",
       "      <td></td>\n",
       "      <td>2020-09-16T18:35:19.457Z</td>\n",
       "      <td>Metropolitan Museum of Art, New York, NY</td>\n",
       "      <td>https://www.metmuseum.org/art/collection/searc...</td>\n",
       "      <td>[{'term': 'Sunflowers', 'AAT_URL': 'http://voc...</td>\n",
       "      <td></td>\n",
       "      <td>False</td>\n",
       "      <td>556</td>\n",
       "      <td>NaN</td>\n",
       "    </tr>\n",
       "    <tr>\n",
       "      <th>4</th>\n",
       "      <td>431264.0</td>\n",
       "      <td>False</td>\n",
       "      <td>41.60.5</td>\n",
       "      <td>1941</td>\n",
       "      <td>False</td>\n",
       "      <td></td>\n",
       "      <td></td>\n",
       "      <td>[]</td>\n",
       "      <td>[{'constituentID': 106722, 'role': 'Artist', '...</td>\n",
       "      <td>Drawings and Prints</td>\n",
       "      <td>...</td>\n",
       "      <td></td>\n",
       "      <td></td>\n",
       "      <td>2020-03-02T21:50:01.377Z</td>\n",
       "      <td>Metropolitan Museum of Art, New York, NY</td>\n",
       "      <td>https://www.metmuseum.org/art/collection/searc...</td>\n",
       "      <td>None</td>\n",
       "      <td></td>\n",
       "      <td>False</td>\n",
       "      <td></td>\n",
       "      <td>NaN</td>\n",
       "    </tr>\n",
       "  </tbody>\n",
       "</table>\n",
       "<p>5 rows × 58 columns</p>\n",
       "</div>"
      ],
      "text/plain": [
       "   objectID isHighlight accessionNumber accessionYear isPublicDomain  \\\n",
       "0  436524.0       False           49.41          1949           True   \n",
       "1  484935.0       False          1987.5          1987          False   \n",
       "2  437112.0       False      29.100.107          1929          False   \n",
       "3  210191.0       False        2000.126          2000          False   \n",
       "4  431264.0       False         41.60.5          1941          False   \n",
       "\n",
       "                                        primaryImage  \\\n",
       "0  https://images.metmuseum.org/CRDImages/ep/orig...   \n",
       "1                                                      \n",
       "2                                                      \n",
       "3                                                      \n",
       "4                                                      \n",
       "\n",
       "                                   primaryImageSmall additionalImages  \\\n",
       "0  https://images.metmuseum.org/CRDImages/ep/web-...               []   \n",
       "1                                                                  []   \n",
       "2                                                                  []   \n",
       "3                                                                  []   \n",
       "4                                                                  []   \n",
       "\n",
       "                                        constituents  \\\n",
       "0  [{'constituentID': 161947, 'role': 'Artist', '...   \n",
       "1  [{'constituentID': 165473, 'role': 'Artist', '...   \n",
       "2  [{'constituentID': 162135, 'role': 'Artist', '...   \n",
       "3  [{'constituentID': 38872, 'role': 'Manufacture...   \n",
       "4  [{'constituentID': 106722, 'role': 'Artist', '...   \n",
       "\n",
       "                               department  ... rightsAndReproduction  \\\n",
       "0                      European Paintings  ...                         \n",
       "1             Modern and Contemporary Art  ...                         \n",
       "2                      European Paintings  ...                         \n",
       "3  European Sculpture and Decorative Arts  ...                         \n",
       "4                     Drawings and Prints  ...                         \n",
       "\n",
       "  linkResource              metadataDate  \\\n",
       "0               2022-10-20T04:55:06.267Z   \n",
       "1               2022-09-09T04:54:13.663Z   \n",
       "2               2022-10-20T04:55:06.267Z   \n",
       "3               2020-09-16T18:35:19.457Z   \n",
       "4               2020-03-02T21:50:01.377Z   \n",
       "\n",
       "                                 repository  \\\n",
       "0  Metropolitan Museum of Art, New York, NY   \n",
       "1  Metropolitan Museum of Art, New York, NY   \n",
       "2  Metropolitan Museum of Art, New York, NY   \n",
       "3  Metropolitan Museum of Art, New York, NY   \n",
       "4  Metropolitan Museum of Art, New York, NY   \n",
       "\n",
       "                                           objectURL  \\\n",
       "0  https://www.metmuseum.org/art/collection/searc...   \n",
       "1  https://www.metmuseum.org/art/collection/searc...   \n",
       "2  https://www.metmuseum.org/art/collection/searc...   \n",
       "3  https://www.metmuseum.org/art/collection/searc...   \n",
       "4  https://www.metmuseum.org/art/collection/searc...   \n",
       "\n",
       "                                                tags  \\\n",
       "0  [{'term': 'Still Life', 'AAT_URL': 'http://voc...   \n",
       "1  [{'term': 'Sunflowers', 'AAT_URL': 'http://voc...   \n",
       "2  [{'term': 'Still Life', 'AAT_URL': 'http://voc...   \n",
       "3  [{'term': 'Sunflowers', 'AAT_URL': 'http://voc...   \n",
       "4                                               None   \n",
       "\n",
       "                        objectWikidata_URL isTimelineWork GalleryNumber  \\\n",
       "0   https://www.wikidata.org/wiki/Q9213165          False           825   \n",
       "1  https://www.wikidata.org/wiki/Q20195878          False                 \n",
       "2  https://www.wikidata.org/wiki/Q19905274          False           819   \n",
       "3                                                   False           556   \n",
       "4                                                   False                 \n",
       "\n",
       "  message  \n",
       "0     NaN  \n",
       "1     NaN  \n",
       "2     NaN  \n",
       "3     NaN  \n",
       "4     NaN  \n",
       "\n",
       "[5 rows x 58 columns]"
      ]
     },
     "execution_count": 17,
     "metadata": {},
     "output_type": "execute_result"
    }
   ],
   "source": [
    "# переводим список в датафрейм\n",
    "rt=pd.DataFrame(obj)\n",
    "rt.head(5)"
   ]
  },
  {
   "cell_type": "code",
   "execution_count": 19,
   "metadata": {},
   "outputs": [
    {
     "data": {
      "text/plain": [
       "objectID             1\n",
       "title                1\n",
       "artistDisplayName    1\n",
       "department           1\n",
       "objectBeginDate      1\n",
       "objectEndDate        1\n",
       "period               1\n",
       "objectName           1\n",
       "culture              1\n",
       "dtype: int64"
      ]
     },
     "execution_count": 19,
     "metadata": {},
     "output_type": "execute_result"
    }
   ],
   "source": [
    "# формируем новый датафрейм, где оставляем только несколько колонок\n",
    "result = rt[[\"objectID\", \"title\",\"artistDisplayName\",\"department\",\"objectBeginDate\",\"objectEndDate\",\"period\",\"objectName\",\"culture\"]]\n",
    "\n",
    "# считаем сколько объектов относится к Японии\n",
    "result.query('culture == \"Japan\"').count()"
   ]
  },
  {
   "cell_type": "markdown",
   "metadata": {},
   "source": [
    "Выполните поисковый запрос для департамента \"Asian art\" (departmentId = 6) с тегом \"cat\" \n",
    "и запишите id объектов в cat_ids. \n",
    "Вывести данные о первой 1000 объектов из списка.\n",
    "\n",
    "В качестве ответа укажите, в каком периоде (period) было выполнено наибольшее количество работ, представленных в музее?"
   ]
  },
  {
   "cell_type": "code",
   "execution_count": null,
   "metadata": {},
   "outputs": [],
   "source": [
    "\n",
    "#df = pd.read_json('https://collectionapi.metmuseum.org/public/collection/v1/search?departmentId=6&q=cat')\n",
    "# df.head(10)\n",
    "\n",
    "# obj=[]\n",
    "# for i in df['objectIDs'].head(10):\n",
    "#     r_test = requests.get('https://collectionapi.metmuseum.org/public/collection/v1/objects/' + str(i))\n",
    "#     res = r_test.json()\n",
    "#     obj.append(res)\n",
    "# obj    \n",
    "\n",
    "rt=pd.DataFrame(obj)\n",
    "rt.head(5)\n",
    "rt.groupby('period', as_index=False).agg({'objectID':'sum'}).sort_values(by='objectID', ascending=False)"
   ]
  },
  {
   "cell_type": "code",
   "execution_count": 28,
   "metadata": {},
   "outputs": [],
   "source": [
    "# делаем запрос по департаменту \"Asian art\" (departmentId = 6)\n",
    "department = pd.read_json('https://collectionapi.metmuseum.org/public/collection/v1/search?departmentId=6&q=cat')\n",
    "\n",
    "# записываем ID объектов в cat_ids\n",
    "cat_ids = department['objectIDs'].to_list()"
   ]
  },
  {
   "cell_type": "code",
   "execution_count": 50,
   "metadata": {},
   "outputs": [],
   "source": [
    "# записывыаем первые 1000 объектов из списка\n",
    "\n",
    "j=[]\n",
    "x = 0\n",
    "\n",
    "for i in cat_ids:\n",
    "    while x < 1000:\n",
    "        j.append(i)\n",
    "        x += 1"
   ]
  },
  {
   "cell_type": "code",
   "execution_count": 55,
   "metadata": {},
   "outputs": [
    {
     "data": {
      "text/plain": [
       "1000"
      ]
     },
     "execution_count": 55,
     "metadata": {},
     "output_type": "execute_result"
    }
   ],
   "source": [
    "# проверяем, какое количество элементов было записано в список\n",
    "numbers_of_element = len(j)\n",
    "number"
   ]
  },
  {
   "cell_type": "code",
   "execution_count": 60,
   "metadata": {},
   "outputs": [
    {
     "data": {
      "text/html": [
       "<div>\n",
       "<style scoped>\n",
       "    .dataframe tbody tr th:only-of-type {\n",
       "        vertical-align: middle;\n",
       "    }\n",
       "\n",
       "    .dataframe tbody tr th {\n",
       "        vertical-align: top;\n",
       "    }\n",
       "\n",
       "    .dataframe thead th {\n",
       "        text-align: right;\n",
       "    }\n",
       "</style>\n",
       "<table border=\"1\" class=\"dataframe\">\n",
       "  <thead>\n",
       "    <tr style=\"text-align: right;\">\n",
       "      <th></th>\n",
       "      <th>period</th>\n",
       "      <th>objectID</th>\n",
       "    </tr>\n",
       "  </thead>\n",
       "  <tbody>\n",
       "    <tr>\n",
       "      <th>0</th>\n",
       "      <td></td>\n",
       "      <td>36416288.0</td>\n",
       "    </tr>\n",
       "    <tr>\n",
       "      <th>1</th>\n",
       "      <td>Edo period (1615–1868)</td>\n",
       "      <td>57922.0</td>\n",
       "    </tr>\n",
       "  </tbody>\n",
       "</table>\n",
       "</div>"
      ],
      "text/plain": [
       "                   period    objectID\n",
       "0                          36416288.0\n",
       "1  Edo period (1615–1868)     57922.0"
      ]
     },
     "execution_count": 60,
     "metadata": {},
     "output_type": "execute_result"
    }
   ],
   "source": [
    "# в rt у нас хранится вся информация обо всех объектах музея\n",
    "\n",
    "\n",
    "rt.groupby('period', as_index=False).agg({'objectID':'sum'}).sort_values(by='objectID', ascending=False)"
   ]
  }
 ],
 "metadata": {
  "kernelspec": {
   "display_name": "Python 3",
   "language": "python",
   "name": "python3"
  },
  "language_info": {
   "codemirror_mode": {
    "name": "ipython",
    "version": 3
   },
   "file_extension": ".py",
   "mimetype": "text/x-python",
   "name": "python",
   "nbconvert_exporter": "python",
   "pygments_lexer": "ipython3",
   "version": "3.7.3"
  }
 },
 "nbformat": 4,
 "nbformat_minor": 4
}
