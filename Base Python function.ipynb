{
 "cells": [
  {
   "cell_type": "markdown",
   "metadata": {},
   "source": [
    "Напишите программу, проверяющую стаж работы сотрудника. Поместите в переменную status следующую строку:"
   ]
  },
  {
   "cell_type": "code",
   "execution_count": 1,
   "metadata": {},
   "outputs": [
    {
     "name": "stdout",
     "output_type": "stream",
     "text": [
      "Olya Silyutina is middle\n"
     ]
    }
   ],
   "source": [
    "worker = ['Olya', 'Silyutina', 350000, 3]\n",
    "\n",
    "if  worker[-1] <2:\n",
    "    position = 'junior'\n",
    "elif worker[-1] >= 2 and worker[-1] <=5:\n",
    "    position = 'middle'\n",
    "else: position = 'senior'\n",
    "\n",
    "status = worker[0] + ' ' + worker[1] + ' '+ 'is' + ' ' + position\n",
    "print(status)\n",
    " "
   ]
  },
  {
   "cell_type": "markdown",
   "metadata": {},
   "source": [
    "В списке values содержатся числовые значения. Создайте список tens и добавьте в него все числа из values, которые делятся на 10 нацело."
   ]
  },
  {
   "cell_type": "code",
   "execution_count": 5,
   "metadata": {},
   "outputs": [
    {
     "name": "stdout",
     "output_type": "stream",
     "text": [
      "[20, 40]\n"
     ]
    }
   ],
   "source": [
    "values = [20,40,35,43]\n",
    "tens = []\n",
    "\n",
    "for i in values:\n",
    "    if i % 10 == 0:\n",
    "        tens.append(i)\n",
    "print(tens)"
   ]
  },
  {
   "cell_type": "markdown",
   "metadata": {},
   "source": [
    "Реализуйте цикл, который пробегается по уже созданному списку workers со значениями и выводит для каждого сотрудника следующую строку (то есть печатает её для каждого элемента списка):\n",
    "\n",
    "user_name user_family is position\n",
    "\n",
    "где user_name и user_family — имя и фамилия сотрудника, а position — одна из следующих строк:\n",
    "\n",
    "'junior' — стаж меньше 2 лет\n",
    "'middle' — стаж больше либо равен 2 и меньше или равен 5\n",
    "'senior' — стаж строго больше 5 лет "
   ]
  },
  {
   "cell_type": "code",
   "execution_count": 6,
   "metadata": {},
   "outputs": [
    {
     "name": "stdout",
     "output_type": "stream",
     "text": [
      "Ivan Ivanov is middle\n",
      "Petr Petrov is middle\n",
      "Sidor Sidorov is middle\n"
     ]
    }
   ],
   "source": [
    "workers = [['Ivan', 'Ivanov', 100000, 2], ['Petr', 'Petrov', 150000, 2], ['Sidor', 'Sidorov', 200000, 3]]\n",
    "\n",
    "for i in workers:    \n",
    "    new_workers = []\n",
    "    for y in i:        \n",
    "        new_workers.append(y)\n",
    "    if  new_workers[3] <2:\n",
    "        position = 'junior'\n",
    "    elif new_workers[-1] >= 2 and new_workers[-1] <=5:\n",
    "        position = 'middle'\n",
    "    else: position = 'senior'\n",
    "    \n",
    "    status = new_workers[0] + ' ' + new_workers[1] + ' '+ 'is' + ' ' + position\n",
    "    print(status)\n",
    "   "
   ]
  },
  {
   "cell_type": "markdown",
   "metadata": {},
   "source": [
    "Поместите в список lst числа от 0 (n = 0) до 10 включительно (N = 10) c шагом 2 (dn = 2)."
   ]
  },
  {
   "cell_type": "code",
   "execution_count": 11,
   "metadata": {},
   "outputs": [
    {
     "name": "stdout",
     "output_type": "stream",
     "text": [
      "[0, 2, 4, 6, 8, 10]\n"
     ]
    }
   ],
   "source": [
    "lst =[]\n",
    "i = 1\n",
    "t = 0\n",
    "while t<11:\n",
    "    lst.append(t)\n",
    "    t = t+2\n",
    "    \n",
    "print(lst)\n",
    "    \n",
    "    "
   ]
  },
  {
   "cell_type": "markdown",
   "metadata": {},
   "source": [
    "Работа со словарями"
   ]
  },
  {
   "cell_type": "code",
   "execution_count": 19,
   "metadata": {},
   "outputs": [],
   "source": [
    "salaries = {'Ivan': 30000}"
   ]
  },
  {
   "cell_type": "code",
   "execution_count": 20,
   "metadata": {},
   "outputs": [
    {
     "data": {
      "text/plain": [
       "30000"
      ]
     },
     "execution_count": 20,
     "metadata": {},
     "output_type": "execute_result"
    }
   ],
   "source": [
    "salaries['Ivan']"
   ]
  },
  {
   "cell_type": "code",
   "execution_count": 22,
   "metadata": {},
   "outputs": [
    {
     "name": "stdout",
     "output_type": "stream",
     "text": [
      "{'login': 'mvolkova'}\n"
     ]
    },
    {
     "data": {
      "text/plain": [
       "'mvolkova'"
      ]
     },
     "execution_count": 22,
     "metadata": {},
     "output_type": "execute_result"
    }
   ],
   "source": [
    "users_dict = {'login':'mvolkova'}\n",
    "print(users_dict)\n",
    "users_dict['login']"
   ]
  },
  {
   "cell_type": "code",
   "execution_count": 21,
   "metadata": {},
   "outputs": [
    {
     "data": {
      "text/plain": [
       "'Volkova'"
      ]
     },
     "execution_count": 21,
     "metadata": {},
     "output_type": "execute_result"
    }
   ],
   "source": [
    "salaries_dict = {'name':'Masha', 'surname':'Volkova', 'age':25, 'salary':60000, 'position':'junior'}\n",
    "salaries_dict['surname']\n",
    "              "
   ]
  },
  {
   "cell_type": "code",
   "execution_count": 24,
   "metadata": {},
   "outputs": [],
   "source": [
    "users_dict = {'login':'mvolkova','name':'Masha'}"
   ]
  },
  {
   "cell_type": "code",
   "execution_count": 26,
   "metadata": {},
   "outputs": [],
   "source": [
    "w = {\"1\": {\"11\": 11}, \"2\": {\"22\": 22}}"
   ]
  },
  {
   "cell_type": "code",
   "execution_count": 28,
   "metadata": {},
   "outputs": [
    {
     "data": {
      "text/plain": [
       "11"
      ]
     },
     "execution_count": 28,
     "metadata": {},
     "output_type": "execute_result"
    }
   ],
   "source": [
    "w[\"1\"][\"11\"]"
   ]
  },
  {
   "cell_type": "code",
   "execution_count": 64,
   "metadata": {},
   "outputs": [],
   "source": [
    "users_dict = {\n",
    "    'mvolkova': {'name':'Masha','surname':'Volkova', 'age': 25, 'salary':60000,'position':'junior' },\n",
    "    'pvoronov': {\"name\":'Peter', 'surname':'Voronov', 'age': 27, 'salary':100000, 'position':'junior'},\n",
    "    'pparker': {\"name\":'Peter', 'surname':'Parker', 'age': 35, 'salary':150000, 'position':'middle'},\n",
    "    'akarpov': {\"name\":'Anatoly', 'surname':'Karpov', 'age': 30, 'salary':250000, 'position':'senior'}\n",
    "}"
   ]
  },
  {
   "cell_type": "code",
   "execution_count": 65,
   "metadata": {},
   "outputs": [
    {
     "data": {
      "text/plain": [
       "25"
      ]
     },
     "execution_count": 65,
     "metadata": {},
     "output_type": "execute_result"
    }
   ],
   "source": [
    "users_dict['mvolkova']['age']"
   ]
  }
 ],
 "metadata": {
  "kernelspec": {
   "display_name": "Python 3",
   "language": "python",
   "name": "python3"
  },
  "language_info": {
   "codemirror_mode": {
    "name": "ipython",
    "version": 3
   },
   "file_extension": ".py",
   "mimetype": "text/x-python",
   "name": "python",
   "nbconvert_exporter": "python",
   "pygments_lexer": "ipython3",
   "version": "3.7.3"
  }
 },
 "nbformat": 4,
 "nbformat_minor": 4
}
