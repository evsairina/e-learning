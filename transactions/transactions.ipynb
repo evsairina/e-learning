{
 "cells": [
  {
   "cell_type": "markdown",
   "metadata": {},
   "source": [
    "# Задача\n",
    "\n",
    "Имеются следующие данные о транзакциях в период с 01.12.2010 по 12.09.2011:\n",
    "\n",
    "1. InvoiceNo — номер транзакции\n",
    "2. StockCode — код товара\n",
    "3. Description — описание товара\n",
    "4. Quantity — количество единиц товара, добавленных в заказ\n",
    "5. InvoiceDate — дата транзакции \n",
    "6. UnitPrice — цена за единицу товара\n",
    "7. CustomerID — id клиента\n",
    "8. Country — страна, где проживает клиент\n",
    "\n",
    "\n",
    "# Вопросы\n",
    "1. Данные содержат в себе записи как об успешных транзакциях, так и об отмененных. Если пользователь отменил заказ, в начале номера транзакции (InvoiceNo) ставится C (canceled). Сколько всего транзакций отменили пользователи? Каждый отдельный тип продукта считайте за отдельную транзакцию - уникальные номера считать не надо.\n",
    "\n",
    "2. В каких заказах больше 1 товара?\n",
    "\n",
    "3. Посчитайте число заказов для каждого пользователя (CustomerID) из Германии (Germany). Оставьте только тех, кто совершил более N транзакций (InvoiceNo), где N – 80% процентиль. \n",
    "\n",
    "4. Отфильтруйте наблюдения и оставьте в данных записи только по интересующим нас юзерам\n",
    "\n",
    "5. Какой из продуктов добавляли в корзину чаще всего, кроме POST?\n",
    "\n",
    "6. Для каждой транзакции (InvoiceNo), посчитайте финальную сумму заказа."
   ]
  },
  {
   "cell_type": "code",
   "execution_count": 3,
   "metadata": {},
   "outputs": [],
   "source": [
    "#Загружаем библиотеку\n",
    "\n",
    "import pandas as pd"
   ]
  },
  {
   "cell_type": "code",
   "execution_count": 4,
   "metadata": {},
   "outputs": [],
   "source": [
    "# загружаем исходные данные\n",
    "retail = pd.read_csv('/mnt/HC_Volume_18315164/home-jupyter/jupyter-i-evsa-22/lesson_5/5_data.csv.zip', compression = 'zip', encoding = 'ISO-8859-1')\n",
    "\n",
    "retail_columns = retail.columns"
   ]
  },
  {
   "cell_type": "code",
   "execution_count": 5,
   "metadata": {},
   "outputs": [
    {
     "data": {
      "text/plain": [
       "(536641, 8)"
      ]
     },
     "execution_count": 5,
     "metadata": {},
     "output_type": "execute_result"
    }
   ],
   "source": [
    "# Исследуем данные\n",
    "\n",
    "retail.dtypes\n",
    "retail.shape #541909\n",
    "retail = retail.drop_duplicates()\n",
    "retail.shape #536641"
   ]
  },
  {
   "cell_type": "code",
   "execution_count": 6,
   "metadata": {},
   "outputs": [
    {
     "data": {
      "text/plain": [
       "9251"
      ]
     },
     "execution_count": 6,
     "metadata": {},
     "output_type": "execute_result"
    }
   ],
   "source": [
    "#Сколько всего транзакций отменили пользователи? \n",
    "\n",
    "retail['InvoiceNo'].str.startswith('C').sum()"
   ]
  },
  {
   "cell_type": "code",
   "execution_count": 7,
   "metadata": {},
   "outputs": [
    {
     "data": {
      "text/plain": [
       "InvoiceNo      526054\n",
       "StockCode      526054\n",
       "Description    525462\n",
       "Quantity       526054\n",
       "InvoiceDate    526054\n",
       "UnitPrice      526054\n",
       "CustomerID     392732\n",
       "Country        526054\n",
       "dtype: int64"
      ]
     },
     "execution_count": 7,
     "metadata": {},
     "output_type": "execute_result"
    }
   ],
   "source": [
    "#В каких заказах больше 1 товара?\n",
    "\n",
    "retail[retail.Quantity > 0].count() #526054\n"
   ]
  },
  {
   "cell_type": "code",
   "execution_count": 8,
   "metadata": {},
   "outputs": [],
   "source": [
    "#Посчитайте число заказов для каждого пользователя (CustomerID) из Германии (Germany). \n",
    "#Оставьте только тех, кто совершил более N транзакций (InvoiceNo), где N – 80% процентиль. \n",
    "\n",
    "\n",
    "qu = retail[retail.Country =='Germany'].groupby('CustomerID', as_index=False).agg({'InvoiceNo':'nunique'}).InvoiceNo.quantile(q=0.8)\n",
    "germany_top  = retail[retail.Country =='Germany'].groupby('CustomerID', as_index=False).agg({'InvoiceNo':'nunique'}).query('InvoiceNo>@qu').CustomerID"
   ]
  },
  {
   "cell_type": "code",
   "execution_count": 9,
   "metadata": {},
   "outputs": [],
   "source": [
    "# отфильтруйте наблюдения и оставьте в данных записи только по интересующим нас юзерам\n",
    "\n",
    "top_retail_germany = retail.query('CustomerID in @germany_top')"
   ]
  },
  {
   "cell_type": "code",
   "execution_count": 10,
   "metadata": {},
   "outputs": [
    {
     "data": {
      "text/html": [
       "<div>\n",
       "<style scoped>\n",
       "    .dataframe tbody tr th:only-of-type {\n",
       "        vertical-align: middle;\n",
       "    }\n",
       "\n",
       "    .dataframe tbody tr th {\n",
       "        vertical-align: top;\n",
       "    }\n",
       "\n",
       "    .dataframe thead th {\n",
       "        text-align: right;\n",
       "    }\n",
       "</style>\n",
       "<table border=\"1\" class=\"dataframe\">\n",
       "  <thead>\n",
       "    <tr style=\"text-align: right;\">\n",
       "      <th></th>\n",
       "      <th>StockCode</th>\n",
       "      <th>InvoiceNo</th>\n",
       "      <th>Description</th>\n",
       "      <th>Quantity</th>\n",
       "      <th>InvoiceDate</th>\n",
       "      <th>UnitPrice</th>\n",
       "      <th>CustomerID</th>\n",
       "      <th>Country</th>\n",
       "    </tr>\n",
       "  </thead>\n",
       "  <tbody>\n",
       "    <tr>\n",
       "      <th>1167</th>\n",
       "      <td>POST</td>\n",
       "      <td>219</td>\n",
       "      <td>219</td>\n",
       "      <td>219</td>\n",
       "      <td>219</td>\n",
       "      <td>219</td>\n",
       "      <td>219</td>\n",
       "      <td>219</td>\n",
       "    </tr>\n",
       "    <tr>\n",
       "      <th>409</th>\n",
       "      <td>22326</td>\n",
       "      <td>62</td>\n",
       "      <td>62</td>\n",
       "      <td>62</td>\n",
       "      <td>62</td>\n",
       "      <td>62</td>\n",
       "      <td>62</td>\n",
       "      <td>62</td>\n",
       "    </tr>\n",
       "    <tr>\n",
       "      <th>452</th>\n",
       "      <td>22423</td>\n",
       "      <td>55</td>\n",
       "      <td>55</td>\n",
       "      <td>55</td>\n",
       "      <td>55</td>\n",
       "      <td>55</td>\n",
       "      <td>55</td>\n",
       "      <td>55</td>\n",
       "    </tr>\n",
       "    <tr>\n",
       "      <th>411</th>\n",
       "      <td>22328</td>\n",
       "      <td>45</td>\n",
       "      <td>45</td>\n",
       "      <td>45</td>\n",
       "      <td>45</td>\n",
       "      <td>45</td>\n",
       "      <td>45</td>\n",
       "      <td>45</td>\n",
       "    </tr>\n",
       "    <tr>\n",
       "      <th>474</th>\n",
       "      <td>22467</td>\n",
       "      <td>37</td>\n",
       "      <td>37</td>\n",
       "      <td>37</td>\n",
       "      <td>37</td>\n",
       "      <td>37</td>\n",
       "      <td>37</td>\n",
       "      <td>37</td>\n",
       "    </tr>\n",
       "    <tr>\n",
       "      <th>...</th>\n",
       "      <td>...</td>\n",
       "      <td>...</td>\n",
       "      <td>...</td>\n",
       "      <td>...</td>\n",
       "      <td>...</td>\n",
       "      <td>...</td>\n",
       "      <td>...</td>\n",
       "      <td>...</td>\n",
       "    </tr>\n",
       "    <tr>\n",
       "      <th>743</th>\n",
       "      <td>23008</td>\n",
       "      <td>1</td>\n",
       "      <td>1</td>\n",
       "      <td>1</td>\n",
       "      <td>1</td>\n",
       "      <td>1</td>\n",
       "      <td>1</td>\n",
       "      <td>1</td>\n",
       "    </tr>\n",
       "    <tr>\n",
       "      <th>739</th>\n",
       "      <td>22999</td>\n",
       "      <td>1</td>\n",
       "      <td>1</td>\n",
       "      <td>1</td>\n",
       "      <td>1</td>\n",
       "      <td>1</td>\n",
       "      <td>1</td>\n",
       "      <td>1</td>\n",
       "    </tr>\n",
       "    <tr>\n",
       "      <th>44</th>\n",
       "      <td>20717</td>\n",
       "      <td>1</td>\n",
       "      <td>1</td>\n",
       "      <td>1</td>\n",
       "      <td>1</td>\n",
       "      <td>1</td>\n",
       "      <td>1</td>\n",
       "      <td>1</td>\n",
       "    </tr>\n",
       "    <tr>\n",
       "      <th>333</th>\n",
       "      <td>22119</td>\n",
       "      <td>1</td>\n",
       "      <td>1</td>\n",
       "      <td>1</td>\n",
       "      <td>1</td>\n",
       "      <td>1</td>\n",
       "      <td>1</td>\n",
       "      <td>1</td>\n",
       "    </tr>\n",
       "    <tr>\n",
       "      <th>656</th>\n",
       "      <td>22821</td>\n",
       "      <td>1</td>\n",
       "      <td>1</td>\n",
       "      <td>1</td>\n",
       "      <td>1</td>\n",
       "      <td>1</td>\n",
       "      <td>1</td>\n",
       "      <td>1</td>\n",
       "    </tr>\n",
       "  </tbody>\n",
       "</table>\n",
       "<p>1168 rows × 8 columns</p>\n",
       "</div>"
      ],
      "text/plain": [
       "     StockCode  InvoiceNo  Description  Quantity  InvoiceDate  UnitPrice  \\\n",
       "1167      POST        219          219       219          219        219   \n",
       "409      22326         62           62        62           62         62   \n",
       "452      22423         55           55        55           55         55   \n",
       "411      22328         45           45        45           45         45   \n",
       "474      22467         37           37        37           37         37   \n",
       "...        ...        ...          ...       ...          ...        ...   \n",
       "743      23008          1            1         1            1          1   \n",
       "739      22999          1            1         1            1          1   \n",
       "44       20717          1            1         1            1          1   \n",
       "333      22119          1            1         1            1          1   \n",
       "656      22821          1            1         1            1          1   \n",
       "\n",
       "      CustomerID  Country  \n",
       "1167         219      219  \n",
       "409           62       62  \n",
       "452           55       55  \n",
       "411           45       45  \n",
       "474           37       37  \n",
       "...          ...      ...  \n",
       "743            1        1  \n",
       "739            1        1  \n",
       "44             1        1  \n",
       "333            1        1  \n",
       "656            1        1  \n",
       "\n",
       "[1168 rows x 8 columns]"
      ]
     },
     "execution_count": 10,
     "metadata": {},
     "output_type": "execute_result"
    }
   ],
   "source": [
    "#Какой из продуктов добавляли в корзину чаще всего, кроме POST? \n",
    "#Note: одним заказом считается единовременная покупка любого количества товара, т.е. без учета Quantity.\n",
    "\n",
    "#top_retail_germany.head(3)\n",
    "top_retail_germany.groupby('StockCode', as_index=False).count().sort_values(by='InvoiceNo', ascending=False)"
   ]
  },
  {
   "cell_type": "code",
   "execution_count": 11,
   "metadata": {},
   "outputs": [],
   "source": [
    "# Создайем доп колонку Revenue с суммой покупки, используя колонки Quantity и UnitPrice.\n",
    "retail['Revenue'] = retail['Quantity'] * retail['UnitPrice']  \n"
   ]
  },
  {
   "cell_type": "code",
   "execution_count": 13,
   "metadata": {},
   "outputs": [
    {
     "data": {
      "text/plain": [
       "['581483', '541431', '574941', '576365', '556444']"
      ]
     },
     "execution_count": 13,
     "metadata": {},
     "output_type": "execute_result"
    }
   ],
   "source": [
    "#Для каждой транзакции (InvoiceNo), посчитайте финальную сумму заказа. \n",
    "# В качестве ответа укажите топ-5 (InvoiceNo) по сумме заказа \n",
    "\n",
    "retail.head(5)\n",
    "retail.groupby('InvoiceNo', as_index=False).agg({'Revenue':'sum'}).sort_values(by='Revenue', ascending=False).head(5).InvoiceNo.to_list()"
   ]
  },
  {
   "cell_type": "code",
   "execution_count": null,
   "metadata": {},
   "outputs": [],
   "source": []
  }
 ],
 "metadata": {
  "kernelspec": {
   "display_name": "Python 3",
   "language": "python",
   "name": "python3"
  },
  "language_info": {
   "codemirror_mode": {
    "name": "ipython",
    "version": 3
   },
   "file_extension": ".py",
   "mimetype": "text/x-python",
   "name": "python",
   "nbconvert_exporter": "python",
   "pygments_lexer": "ipython3",
   "version": "3.7.3"
  }
 },
 "nbformat": 4,
 "nbformat_minor": 4
}
