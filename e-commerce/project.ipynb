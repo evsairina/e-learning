{
 "cells": [
  {
   "cell_type": "markdown",
   "metadata": {},
   "source": [
    "# Задание"
   ]
  },
  {
   "cell_type": "markdown",
   "metadata": {},
   "source": [
    "Продакт-менеджер Василий попросил вас проанализировать завершенные уроки и ответить на следующие вопросы:\n",
    "\n",
    "1. Сколько студентов успешно сдали только один курс? (Успешная сдача — это зачёт по курсу на экзамене)\n",
    "\n",
    "2. Выяви самый сложный и самый простой экзамен: найди курсы и экзамены в рамках курса, которые обладают самой низкой и самой высокой завершаемостью*\n",
    "\n",
    "3. По каждому предмету определи средний срок сдачи экзаменов (под сдачей понимаем последнее успешное прохождение экзамена студентом). \n",
    "\n",
    "4. Выяви самые популярные курсы (ТОП-3) по количеству регистраций на них. А также курсы с самым большим оттоком (ТОП-3).\n",
    "\n",
    "5. Напиши функцию на python, позволяющую строить когортный (семестровый) анализ. В период с начала 2013 по конец 2014 выяви семестр с самой низкой завершаемостью курсов и самыми долгими средними сроками сдачи курсов. \n",
    "\n",
    "6. Часто для качественного анализа аудитории использую подходы, основанные на сегментации. Используя python, построй адаптированные RFM-кластеры студентов, чтобы качественно оценить свою аудиторию. В адаптированной кластеризации можешь выбрать следующие метрики: R - среднее время сдачи одного экзамена, F - завершаемость курсов, M - среднее количество баллов, получаемое за экзамен. Подробно опиши, как ты создавал кластеры. Для каждого RFM-сегмента построй границы метрик recency, frequency и monetary для интерпретации этих кластеров. Пример такого описания: RFM-сегмент 132 (recency=1, frequency=3, monetary=2) имеет границы метрик recency от 130 до 500 дней, frequency от 0.1 до 0.5, monetary от 55 до 72 баллов. \n",
    "\n",
    "*завершаемость = кол-во успешных экзаменов / кол-во всех попыток сдать экзамен"
   ]
  },
  {
   "cell_type": "code",
   "execution_count": 1,
   "metadata": {},
   "outputs": [],
   "source": [
    "# загружаем библиотеки\n",
    "\n",
    "import pandas as pd"
   ]
  },
  {
   "cell_type": "code",
   "execution_count": 15,
   "metadata": {},
   "outputs": [],
   "source": [
    "# выгружаем исходные данные \n",
    "\n",
    "\"\"\" описание исходных данных\n",
    "assessments -  этот файл содержит информацию об оценках в тесте. \n",
    "Обычно каждый предмет в семестре включает ряд тестов с оценками, за которыми следует заключительный экзаменационный тест\n",
    "\n",
    "courses.csv — файл содержит список предметов по семестрам.\n",
    "\n",
    "studentAssessment.csv — этот файл содержит результаты тестов студентов. \n",
    "Если учащийся не отправляет работу на оценку, результат не записывается в таблицу.\n",
    "\n",
    "studentRegistration.csv — этот файл содержит информацию о времени, когда студент зарегистрировался \n",
    "для прохождения курса в семестре.\n",
    "\"\"\"\n",
    "\n",
    "assessments = pd.read_csv('/mnt/HC_Volume_18315164/home-jupyter/jupyter-i-evsa-22/first_project/assessments.csv', sep=',', parse_dates=True)\n",
    "courses = pd.read_csv('/mnt/HC_Volume_18315164/home-jupyter/jupyter-i-evsa-22/first_project/courses.csv', sep=',',  parse_dates=True)\n",
    "studentAssessment = pd.read_csv('/mnt/HC_Volume_18315164/home-jupyter/jupyter-i-evsa-22/first_project/studentAssessment.csv', sep=',',  parse_dates=True)\n",
    "studentRegistration = pd.read_csv('/mnt/HC_Volume_18315164/home-jupyter/jupyter-i-evsa-22/first_project/studentRegistration.csv', sep=',',  parse_dates=True)"
   ]
  },
  {
   "cell_type": "markdown",
   "metadata": {},
   "source": [
    "# 1. Сколько студентов успешно сдали только один курс? (Успешная сдача — это зачёт по курсу на экзамене)"
   ]
  },
  {
   "cell_type": "code",
   "execution_count": 16,
   "metadata": {},
   "outputs": [],
   "source": [
    "\"\"\" Курс = Предмет. По некоторым экзаменам дата сдачи теста  = NaN, такие экзамены тоже засчитываем.Возможно в расписании забыли проставить дату, \n",
    "но по данным видно, что студенты экзамены все равно сдавали \"\"\"\n",
    "\n",
    "# объединяем результаты тестов и оценки в тестах\n",
    "\n",
    "data_result_assessment = studentAssessment.merge(assessments, on='id_assessment')"
   ]
  },
  {
   "cell_type": "code",
   "execution_count": 17,
   "metadata": {},
   "outputs": [
    {
     "data": {
      "text/plain": [
       "array(['TMA', 'CMA'], dtype=object)"
      ]
     },
     "execution_count": 17,
     "metadata": {},
     "output_type": "execute_result"
    }
   ],
   "source": [
    "# Проверяем какие типы теста пересдают, экзаменов среди нет, поэтому пересдачу в итоговом подсчете не учитываем\n",
    "\n",
    "data_result_assessment.query('is_banked ==1')['assessment_type'].unique()"
   ]
  },
  {
   "cell_type": "code",
   "execution_count": 18,
   "metadata": {},
   "outputs": [],
   "source": [
    "# объединяем результаты тестов и оценки в тестах c датами регистрации на курс\n",
    "\n",
    "final_df = data_result_assessment.merge(studentRegistration, on=['code_module','id_student','code_presentation'])"
   ]
  },
  {
   "cell_type": "code",
   "execution_count": 20,
   "metadata": {},
   "outputs": [
    {
     "data": {
      "text/plain": [
       "id_student     3802\n",
       "code_module    3802\n",
       "dtype: int64"
      ]
     },
     "execution_count": 20,
     "metadata": {},
     "output_type": "execute_result"
    }
   ],
   "source": [
    "\"\"\" В качестве ответа будем брать те предметы, по которым \n",
    "1. проходил экзамен \n",
    "2. студент не отменял регистрацию на курс\n",
    "3. score >= 40 \"\"\"\n",
    "\n",
    "\n",
    "final_df.query('assessment_type ==\"Exam\" and date_unregistration==\"NaN\" and score >= 40').\\\n",
    "                groupby('id_student', as_index=False).\\\n",
    "                 agg({'code_module':'count'}).\\\n",
    "                 query('code_module == 1').count()\n"
   ]
  },
  {
   "cell_type": "markdown",
   "metadata": {},
   "source": [
    "Вывод: всего 3802 успешно сдали только 1 курс"
   ]
  },
  {
   "cell_type": "markdown",
   "metadata": {},
   "source": [
    "# Выяви самый сложный и самый простой экзамен: найди курсы и экзамены в рамках курса, которые обладают самой низкой и самой высокой завершаемостью*\n",
    "завершаемость = кол-во успешных экзаменов / кол-во всех попыток сдать экзамен"
   ]
  },
  {
   "cell_type": "code",
   "execution_count": 22,
   "metadata": {},
   "outputs": [],
   "source": [
    "\"\"\"считаем кол-во успешных экзаменов : (тип теста - экзамен, оценка> 40, нет даты отмены регистрации) \"\"\"\n",
    "\n",
    "cnt_success_exm = final_df.query('assessment_type ==\"Exam\" and score>= 40 and date_unregistration==\"NaN\"').\\\n",
    "                groupby(['id_assessment','code_module'], as_index=False).\\\n",
    "                agg({'id_student':'count'}).\\\n",
    "                rename(columns={'id_student': 'count_success_exm'})"
   ]
  },
  {
   "cell_type": "code",
   "execution_count": 23,
   "metadata": {},
   "outputs": [],
   "source": [
    "\"\"\" считаем общее кол-во попыток сдачи экзаменов \"\"\"\n",
    "\n",
    "cnt_tries_exm = final_df.query('assessment_type ==\"Exam\"').\\\n",
    "                groupby(['id_assessment','code_module'], as_index=False).\\\n",
    "                agg({'id_student':'count'}).\\\n",
    "                rename(columns={'id_student': 'count_exm'})"
   ]
  },
  {
   "cell_type": "code",
   "execution_count": 24,
   "metadata": {},
   "outputs": [],
   "source": [
    "\"\"\" объединяем датасеты \"\"\"\n",
    "\n",
    "info_exm = cnt_success_exm.merge(cnt_tries_exm, on=['id_assessment','code_module'])"
   ]
  },
  {
   "cell_type": "code",
   "execution_count": 25,
   "metadata": {},
   "outputs": [],
   "source": [
    "\"\"\" рассчитываем новое значение Завершаемость путем добавления нового столбца в df \"\"\"\n",
    "\n",
    "info_exm['completion'] = round((info_exm.count_success_exm / info_exm.count_exm) *100,2)"
   ]
  },
  {
   "cell_type": "code",
   "execution_count": 26,
   "metadata": {},
   "outputs": [
    {
     "data": {
      "text/html": [
       "<div>\n",
       "<style scoped>\n",
       "    .dataframe tbody tr th:only-of-type {\n",
       "        vertical-align: middle;\n",
       "    }\n",
       "\n",
       "    .dataframe tbody tr th {\n",
       "        vertical-align: top;\n",
       "    }\n",
       "\n",
       "    .dataframe thead th {\n",
       "        text-align: right;\n",
       "    }\n",
       "</style>\n",
       "<table border=\"1\" class=\"dataframe\">\n",
       "  <thead>\n",
       "    <tr style=\"text-align: right;\">\n",
       "      <th></th>\n",
       "      <th>id_assessment</th>\n",
       "      <th>code_module</th>\n",
       "      <th>count_success_exm</th>\n",
       "      <th>count_exm</th>\n",
       "      <th>completion</th>\n",
       "    </tr>\n",
       "  </thead>\n",
       "  <tbody>\n",
       "    <tr>\n",
       "      <th>4</th>\n",
       "      <td>25361</td>\n",
       "      <td>DDD</td>\n",
       "      <td>485</td>\n",
       "      <td>524</td>\n",
       "      <td>92.56</td>\n",
       "    </tr>\n",
       "  </tbody>\n",
       "</table>\n",
       "</div>"
      ],
      "text/plain": [
       "   id_assessment code_module  count_success_exm  count_exm  completion\n",
       "4          25361         DDD                485        524       92.56"
      ]
     },
     "execution_count": 26,
     "metadata": {},
     "output_type": "execute_result"
    }
   ],
   "source": [
    "\"\"\" для определения самого сложного экзамена используем сортировку по убыванию относительно завершаемости и берем первую запись \"\"\"\n",
    "\n",
    "info_exm.sort_values(by='completion', ascending=False).head(1)"
   ]
  },
  {
   "cell_type": "code",
   "execution_count": 27,
   "metadata": {},
   "outputs": [
    {
     "data": {
      "text/html": [
       "<div>\n",
       "<style scoped>\n",
       "    .dataframe tbody tr th:only-of-type {\n",
       "        vertical-align: middle;\n",
       "    }\n",
       "\n",
       "    .dataframe tbody tr th {\n",
       "        vertical-align: top;\n",
       "    }\n",
       "\n",
       "    .dataframe thead th {\n",
       "        text-align: right;\n",
       "    }\n",
       "</style>\n",
       "<table border=\"1\" class=\"dataframe\">\n",
       "  <thead>\n",
       "    <tr style=\"text-align: right;\">\n",
       "      <th></th>\n",
       "      <th>id_assessment</th>\n",
       "      <th>code_module</th>\n",
       "      <th>count_success_exm</th>\n",
       "      <th>count_exm</th>\n",
       "      <th>completion</th>\n",
       "    </tr>\n",
       "  </thead>\n",
       "  <tbody>\n",
       "    <tr>\n",
       "      <th>2</th>\n",
       "      <td>25340</td>\n",
       "      <td>DDD</td>\n",
       "      <td>504</td>\n",
       "      <td>602</td>\n",
       "      <td>83.72</td>\n",
       "    </tr>\n",
       "  </tbody>\n",
       "</table>\n",
       "</div>"
      ],
      "text/plain": [
       "   id_assessment code_module  count_success_exm  count_exm  completion\n",
       "2          25340         DDD                504        602       83.72"
      ]
     },
     "execution_count": 27,
     "metadata": {},
     "output_type": "execute_result"
    }
   ],
   "source": [
    "\"\"\" для определения самого простого экзамена используем сортировку по возрастанию относительно завершаемости и берем первую запись \"\"\"\n",
    "\n",
    "info_exm.sort_values(by='completion', ascending=True).head(1)"
   ]
  },
  {
   "cell_type": "markdown",
   "metadata": {},
   "source": [
    "# Итоговый ответ: "
   ]
  },
  {
   "cell_type": "markdown",
   "metadata": {},
   "source": [
    "самый простой экзамен 25361 в рамках курса DDD, завершаемость 92.56%\n",
    "самый сложный экзамен 25340 в рамках курса DDD, завершаемость 83.72%"
   ]
  },
  {
   "cell_type": "markdown",
   "metadata": {},
   "source": [
    "# 3. По каждому предмету определи средний срок сдачи экзаменов (под сдачей понимаем последнее успешное прохождение экзамена студентом). "
   ]
  },
  {
   "cell_type": "code",
   "execution_count": 30,
   "metadata": {},
   "outputs": [],
   "source": [
    "\"\"\" В качестве срока сдачи экзамена будем брать date_submitted (дата сдачи теста студентом), пересдачи не учитываем при подсчете\n",
    "Определяем список студентов, которые успешно сдали экзамен и максимальные даты  \"\"\"\n",
    "\n",
    "max_day = final_df.query('assessment_type ==\"Exam\" and score>=40 and date_unregistration==\"NaN\"')[{'id_student','code_module','date_submitted','code_presentation'}].\\\n",
    "                    groupby(['id_student','code_module'], as_index=False).max()"
   ]
  },
  {
   "cell_type": "code",
   "execution_count": 31,
   "metadata": {},
   "outputs": [
    {
     "data": {
      "text/html": [
       "<div>\n",
       "<style scoped>\n",
       "    .dataframe tbody tr th:only-of-type {\n",
       "        vertical-align: middle;\n",
       "    }\n",
       "\n",
       "    .dataframe tbody tr th {\n",
       "        vertical-align: top;\n",
       "    }\n",
       "\n",
       "    .dataframe thead th {\n",
       "        text-align: right;\n",
       "    }\n",
       "</style>\n",
       "<table border=\"1\" class=\"dataframe\">\n",
       "  <thead>\n",
       "    <tr style=\"text-align: right;\">\n",
       "      <th></th>\n",
       "      <th>code_module</th>\n",
       "      <th>date_submitted</th>\n",
       "    </tr>\n",
       "  </thead>\n",
       "  <tbody>\n",
       "    <tr>\n",
       "      <th>0</th>\n",
       "      <td>CCC</td>\n",
       "      <td>239.0</td>\n",
       "    </tr>\n",
       "    <tr>\n",
       "      <th>1</th>\n",
       "      <td>DDD</td>\n",
       "      <td>238.0</td>\n",
       "    </tr>\n",
       "  </tbody>\n",
       "</table>\n",
       "</div>"
      ],
      "text/plain": [
       "  code_module  date_submitted\n",
       "0         CCC           239.0\n",
       "1         DDD           238.0"
      ]
     },
     "execution_count": 31,
     "metadata": {},
     "output_type": "execute_result"
    }
   ],
   "source": [
    "\"\"\"  Определяем средний срок сдачи по каждому предмету \"\"\" \n",
    "\n",
    "max_day.groupby('code_module', as_index=False).agg({'date_submitted':'mean'}).round(0)"
   ]
  },
  {
   "cell_type": "markdown",
   "metadata": {},
   "source": [
    "# Итоговый ответ: "
   ]
  },
  {
   "cell_type": "markdown",
   "metadata": {},
   "source": [
    "по предмету CCC средний срок сдачи 239 дней\n",
    "по предмету DDD средний срок сдачи 238 дней"
   ]
  },
  {
   "cell_type": "markdown",
   "metadata": {},
   "source": [
    "# 4. Выяви самые популярные курсы (ТОП-3) по количеству регистраций на них. А также курсы с самым большим оттоком (ТОП-3). (8 баллов)"
   ]
  },
  {
   "cell_type": "code",
   "execution_count": 33,
   "metadata": {},
   "outputs": [
    {
     "data": {
      "text/html": [
       "<div>\n",
       "<style scoped>\n",
       "    .dataframe tbody tr th:only-of-type {\n",
       "        vertical-align: middle;\n",
       "    }\n",
       "\n",
       "    .dataframe tbody tr th {\n",
       "        vertical-align: top;\n",
       "    }\n",
       "\n",
       "    .dataframe thead th {\n",
       "        text-align: right;\n",
       "    }\n",
       "</style>\n",
       "<table border=\"1\" class=\"dataframe\">\n",
       "  <thead>\n",
       "    <tr style=\"text-align: right;\">\n",
       "      <th></th>\n",
       "      <th>code_module</th>\n",
       "      <th>count_register</th>\n",
       "    </tr>\n",
       "  </thead>\n",
       "  <tbody>\n",
       "    <tr>\n",
       "      <th>5</th>\n",
       "      <td>FFF</td>\n",
       "      <td>51418</td>\n",
       "    </tr>\n",
       "    <tr>\n",
       "      <th>1</th>\n",
       "      <td>BBB</td>\n",
       "      <td>40339</td>\n",
       "    </tr>\n",
       "    <tr>\n",
       "      <th>3</th>\n",
       "      <td>DDD</td>\n",
       "      <td>27341</td>\n",
       "    </tr>\n",
       "  </tbody>\n",
       "</table>\n",
       "</div>"
      ],
      "text/plain": [
       "  code_module  count_register\n",
       "5         FFF           51418\n",
       "1         BBB           40339\n",
       "3         DDD           27341"
      ]
     },
     "execution_count": 33,
     "metadata": {},
     "output_type": "execute_result"
    }
   ],
   "source": [
    "\"\"\" При подсчете популярных курсов будем учитывать все типы тестов. Если студент отменял регистрацию, то такую регистрацию на курс в общем кол-ве не учитываем.\n",
    "Регистрации на курс не ограничиваются каким-то определенным семестром \"\"\"\n",
    "\n",
    "# топ-3 популярных курсов\n",
    "final_df.query('date_unregistration == \"NaN\"').\\\n",
    "    groupby('code_module', as_index=False).\\\n",
    "    agg({'id_student':'count'}).\\\n",
    "    rename(columns={'id_student': 'count_register'}).\\\n",
    "    sort_values(by='count_register', ascending=False).head(3)"
   ]
  },
  {
   "cell_type": "markdown",
   "metadata": {},
   "source": [
    "# Итоговый ответ:"
   ]
  },
  {
   "cell_type": "markdown",
   "metadata": {},
   "source": [
    " ТОП -3 популярных курса по количеству регистраций: FFF, BBB, DDD\n"
   ]
  },
  {
   "cell_type": "code",
   "execution_count": 36,
   "metadata": {},
   "outputs": [
    {
     "data": {
      "text/html": [
       "<div>\n",
       "<style scoped>\n",
       "    .dataframe tbody tr th:only-of-type {\n",
       "        vertical-align: middle;\n",
       "    }\n",
       "\n",
       "    .dataframe tbody tr th {\n",
       "        vertical-align: top;\n",
       "    }\n",
       "\n",
       "    .dataframe thead th {\n",
       "        text-align: right;\n",
       "    }\n",
       "</style>\n",
       "<table border=\"1\" class=\"dataframe\">\n",
       "  <thead>\n",
       "    <tr style=\"text-align: right;\">\n",
       "      <th></th>\n",
       "      <th>code_module</th>\n",
       "      <th>count_churn</th>\n",
       "    </tr>\n",
       "  </thead>\n",
       "  <tbody>\n",
       "    <tr>\n",
       "      <th>3</th>\n",
       "      <td>DDD</td>\n",
       "      <td>3523</td>\n",
       "    </tr>\n",
       "    <tr>\n",
       "      <th>5</th>\n",
       "      <td>FFF</td>\n",
       "      <td>3397</td>\n",
       "    </tr>\n",
       "    <tr>\n",
       "      <th>1</th>\n",
       "      <td>BBB</td>\n",
       "      <td>2693</td>\n",
       "    </tr>\n",
       "  </tbody>\n",
       "</table>\n",
       "</div>"
      ],
      "text/plain": [
       "  code_module  count_churn\n",
       "3         DDD         3523\n",
       "5         FFF         3397\n",
       "1         BBB         2693"
      ]
     },
     "execution_count": 36,
     "metadata": {},
     "output_type": "execute_result"
    }
   ],
   "source": [
    "\"\"\" оттоком будем считать факт того, что по студенту date_unregistration не пустое -> в рамках каждого курса будем считать кол-во date_unregistration не пустое по каждому тесту\n",
    "и выбирать 3 курса с максимальным кол-вом\n",
    "\n",
    "при подсчете оттока будут учитываться все типы тестирования и все семестры\n",
    "также будут учитываться как отток пересдачи при условии что date_unregistration не пустое  \"\"\"\n",
    "\n",
    "# топ-3 курса с max оттоком\n",
    "final_df.query('date_unregistration != \"NaN\"').\\\n",
    "groupby('code_module', as_index=False).\\\n",
    "agg({'id_assessment':'count'}).\\\n",
    "rename(columns={'id_assessment': 'count_churn'}).\\\n",
    "sort_values(by='count_churn', ascending=False).head(3)"
   ]
  },
  {
   "cell_type": "markdown",
   "metadata": {},
   "source": [
    "# Вывод:"
   ]
  },
  {
   "cell_type": "markdown",
   "metadata": {},
   "source": [
    "Видимо самые популярные курсы -  FFF, BBB, DDD - и самые сложные, раз одни и те же курсы находятся и в топе оттока"
   ]
  },
  {
   "cell_type": "markdown",
   "metadata": {},
   "source": [
    "# Напиши функцию на python, позволяющую строить когортный (семестровый) анализ. В период с начала 2013 по конец 2014 выяви семестр с самой низкой завершаемостью курсов и самыми долгими средними сроками сдачи курсов. "
   ]
  },
  {
   "cell_type": "code",
   "execution_count": 49,
   "metadata": {},
   "outputs": [],
   "source": [
    "\"\"\" Описание используемых переменных \n",
    "#df1 - studentRegistration\n",
    "#df2 - studentAssessment\n",
    "#df3 - assessments\n",
    "\n",
    "На вход в функцию должны подаваться соответствующие датафреймы\n",
    "\n",
    "\"\"\"\n",
    "def cohorts(df1, df2, df3):\n",
    "    \n",
    "    # Присваиваем когорту каждому студенту по первому семестру, в котором произошла первая регистрация на любой курс \n",
    "    # с любым типом теста\n",
    "    student_cohort = df1.groupby(['id_student'], as_index=False).agg({'code_presentation':'min'}).rename(columns={'code_presentation':'cohort'})\n",
    "        \n",
    "    #формируем отдельный df с семестрами\n",
    "    semestr_order =pd.DataFrame(['2013B','2013J','2014B', '2014J'])\n",
    "    semestr_order.columns = ['semestr']\n",
    "    \n",
    "    #задаем ключи для джойна\n",
    "    semestr_order['key']= 1\n",
    "    student_cohort['key']= 1\n",
    "    \n",
    "    # соединяем когорты и семестры по каждому студенту\n",
    "    template = semestr_order.merge(student_cohort, on='key')[{'semestr','id_student','cohort'}]\n",
    "    \n",
    "    # оставляем только те семестры в общем df, с которых происходит первая регистрация по каждому студенту\n",
    "    template = template[template['semestr'] >= template['cohort']]\n",
    "    template.columns = ['cohort','id_student','code_presentation']\n",
    "    \n",
    "    # объединяем результаты тестов, оценки в тестах,когорты\n",
    "    data = df2.merge(df3, on='id_assessment').merge(df1, on=['code_module','code_presentation','id_student'])\n",
    " \n",
    "    # считаем кол-во успешных экзаменов по каждому студенту в разрезе семестра\n",
    "    success_exm = data.query('assessment_type ==\"Exam\" and score>40 and date_unregistration==\"NaN\"').groupby(['id_student','code_presentation'], as_index=False).agg({'id_assessment':'count'}).rename(columns={'id_assessment':'cnt_success_exm'})\n",
    "   \n",
    "    # считаем общее кол-во попыток сдать экзамен по каждому студенту в разрезе семестра\n",
    "    count_exm = data.query('assessment_type ==\"Exam\" and date_unregistration==\"NaN\"').groupby(['id_student','code_presentation'], as_index=False).agg({'id_assessment':'count'}).rename(columns={'id_assessment':'cnt_exm'})\n",
    "        \n",
    "    # объединяем данные по попыткам и успехам и рассчитываем % соотношение по каждому семестру\n",
    "    exm = success_exm.merge(count_exm, on =['code_presentation','id_student'])\n",
    "  \n",
    "    #completion\n",
    "    exm['completion'] = exm['cnt_success_exm'] / exm['cnt_exm']\n",
    "    \n",
    "    # объединяем результаты с когортами\n",
    "    report = exm.merge(template, on = ['code_presentation','id_student'])\n",
    "    \n",
    "    # Определяем список студентов, которые успешно сдали экзамен и максимальные даты  \n",
    "    max_day = data.query('assessment_type ==\"Exam\" and score>40 and date_unregistration==\"NaN\"')[{'id_student','code_module','date_submitted','code_presentation'}].\\\n",
    "    groupby(['id_student','code_presentation'], as_index=False).max()\n",
    "  \n",
    "\n",
    "    report_total = report.merge(max_day, on=['code_presentation','id_student'])\n",
    "    final = report_total.pivot_table(index='cohort', columns='code_presentation', values='completion')\n",
    "     \n",
    "    return final"
   ]
  },
  {
   "cell_type": "code",
   "execution_count": 50,
   "metadata": {},
   "outputs": [
    {
     "data": {
      "text/html": [
       "<div>\n",
       "<style scoped>\n",
       "    .dataframe tbody tr th:only-of-type {\n",
       "        vertical-align: middle;\n",
       "    }\n",
       "\n",
       "    .dataframe tbody tr th {\n",
       "        vertical-align: top;\n",
       "    }\n",
       "\n",
       "    .dataframe thead th {\n",
       "        text-align: right;\n",
       "    }\n",
       "</style>\n",
       "<table border=\"1\" class=\"dataframe\">\n",
       "  <thead>\n",
       "    <tr style=\"text-align: right;\">\n",
       "      <th>code_presentation</th>\n",
       "      <th>2013B</th>\n",
       "      <th>2013J</th>\n",
       "      <th>2014B</th>\n",
       "      <th>2014J</th>\n",
       "    </tr>\n",
       "    <tr>\n",
       "      <th>cohort</th>\n",
       "      <th></th>\n",
       "      <th></th>\n",
       "      <th></th>\n",
       "      <th></th>\n",
       "    </tr>\n",
       "  </thead>\n",
       "  <tbody>\n",
       "    <tr>\n",
       "      <th>2013B</th>\n",
       "      <td>1.0</td>\n",
       "      <td>1.0</td>\n",
       "      <td>1.000000</td>\n",
       "      <td>0.964286</td>\n",
       "    </tr>\n",
       "    <tr>\n",
       "      <th>2013J</th>\n",
       "      <td>NaN</td>\n",
       "      <td>1.0</td>\n",
       "      <td>1.000000</td>\n",
       "      <td>1.000000</td>\n",
       "    </tr>\n",
       "    <tr>\n",
       "      <th>2014B</th>\n",
       "      <td>NaN</td>\n",
       "      <td>NaN</td>\n",
       "      <td>0.999449</td>\n",
       "      <td>1.000000</td>\n",
       "    </tr>\n",
       "    <tr>\n",
       "      <th>2014J</th>\n",
       "      <td>NaN</td>\n",
       "      <td>NaN</td>\n",
       "      <td>NaN</td>\n",
       "      <td>0.998899</td>\n",
       "    </tr>\n",
       "  </tbody>\n",
       "</table>\n",
       "</div>"
      ],
      "text/plain": [
       "code_presentation  2013B  2013J     2014B     2014J\n",
       "cohort                                             \n",
       "2013B                1.0    1.0  1.000000  0.964286\n",
       "2013J                NaN    1.0  1.000000  1.000000\n",
       "2014B                NaN    NaN  0.999449  1.000000\n",
       "2014J                NaN    NaN       NaN  0.998899"
      ]
     },
     "execution_count": 50,
     "metadata": {},
     "output_type": "execute_result"
    }
   ],
   "source": [
    "cohorts(studentRegistration,studentAssessment,assessments )"
   ]
  },
  {
   "cell_type": "markdown",
   "metadata": {},
   "source": [
    "# Вывод"
   ]
  },
  {
   "cell_type": "markdown",
   "metadata": {},
   "source": [
    "семестр с самой низкой завершаемостью курсов - 2014J у когорты студентов, которые регистрировались в 2013B"
   ]
  },
  {
   "cell_type": "code",
   "execution_count": 53,
   "metadata": {},
   "outputs": [],
   "source": [
    "\"\"\" Описание используемых переменных \n",
    "#df1 - studentRegistration\n",
    "#df2 - studentAssessment\n",
    "#df3 - assessments\n",
    "\n",
    "На вход в функцию должны подаваться соответствующие датафреймы\n",
    "\n",
    "\"\"\"\n",
    "\n",
    "def avg_time(df1, df2, df3):\n",
    "    \n",
    "    # Присваиваем когорту каждому студенту по первому семестру, в котором произошла первая регистрация на любой курс \n",
    "    # с любым типом теста\n",
    "    student_cohort = df1.groupby(['id_student'], as_index=False).agg({'code_presentation':'min'}).rename(columns={'code_presentation':'cohort'})\n",
    "        \n",
    "    #формируем отдельный df с семестрами\n",
    "    semestr_order =pd.DataFrame(['2013B','2013J','2014B', '2014J'])\n",
    "    semestr_order.columns = ['semestr']\n",
    "    \n",
    "#     #задаем ключи для джойна\n",
    "    semestr_order['key']= 1\n",
    "    student_cohort['key']= 1\n",
    "    \n",
    "# #     # соединяем когорты и семестры по каждому студенту\n",
    "    template = semestr_order.merge(student_cohort, on='key')[{'semestr','id_student','cohort'}]\n",
    "    \n",
    "#     # оставляем только те семестры в общем df, с которых происходит первая регистрация по каждому студенту\n",
    "    template = template[template['semestr'] >= template['cohort']]\n",
    "    template.columns = ['cohort','id_student','code_presentation']\n",
    " \n",
    " #     # объединяем результаты тестов, оценки в тестах,когорты\n",
    "    data = df2.merge(df3, on='id_assessment').merge(df1, on=['code_module','code_presentation','id_student'])\n",
    " \n",
    "    \n",
    "# #     # Определяем список студентов, которые успешно сдали экзамен и максимальные даты  \n",
    "    max_day = data.query('assessment_type ==\"Exam\" and score>40 and date_unregistration==\"NaN\"')[{'id_student','code_module','date_submitted','code_presentation'}].\\\n",
    "    groupby(['id_student','code_presentation'], as_index=False).max()\n",
    "\n",
    "    avg_date = max_day.groupby('code_presentation', as_index=False).agg({'date_submitted':'mean'}).round(0).rename(columns={'date_submitted':'avg_date'})\n",
    "    \n",
    "# #     # объединяем результаты с когортами\n",
    "    report = avg_date.merge(template, on = ['code_presentation'])\n",
    " \n",
    "    final = report.pivot_table(index='cohort', columns='code_presentation', values='avg_date')\n",
    "  \n",
    "    return final"
   ]
  },
  {
   "cell_type": "code",
   "execution_count": 54,
   "metadata": {},
   "outputs": [
    {
     "data": {
      "text/html": [
       "<div>\n",
       "<style scoped>\n",
       "    .dataframe tbody tr th:only-of-type {\n",
       "        vertical-align: middle;\n",
       "    }\n",
       "\n",
       "    .dataframe tbody tr th {\n",
       "        vertical-align: top;\n",
       "    }\n",
       "\n",
       "    .dataframe thead th {\n",
       "        text-align: right;\n",
       "    }\n",
       "</style>\n",
       "<table border=\"1\" class=\"dataframe\">\n",
       "  <thead>\n",
       "    <tr style=\"text-align: right;\">\n",
       "      <th>code_presentation</th>\n",
       "      <th>2013B</th>\n",
       "      <th>2013J</th>\n",
       "      <th>2014B</th>\n",
       "      <th>2014J</th>\n",
       "    </tr>\n",
       "    <tr>\n",
       "      <th>cohort</th>\n",
       "      <th></th>\n",
       "      <th></th>\n",
       "      <th></th>\n",
       "      <th></th>\n",
       "    </tr>\n",
       "  </thead>\n",
       "  <tbody>\n",
       "    <tr>\n",
       "      <th>2013B</th>\n",
       "      <td>230.0</td>\n",
       "      <td>240.0</td>\n",
       "      <td>233.0</td>\n",
       "      <td>244.0</td>\n",
       "    </tr>\n",
       "    <tr>\n",
       "      <th>2013J</th>\n",
       "      <td>NaN</td>\n",
       "      <td>240.0</td>\n",
       "      <td>233.0</td>\n",
       "      <td>244.0</td>\n",
       "    </tr>\n",
       "    <tr>\n",
       "      <th>2014B</th>\n",
       "      <td>NaN</td>\n",
       "      <td>NaN</td>\n",
       "      <td>233.0</td>\n",
       "      <td>244.0</td>\n",
       "    </tr>\n",
       "    <tr>\n",
       "      <th>2014J</th>\n",
       "      <td>NaN</td>\n",
       "      <td>NaN</td>\n",
       "      <td>NaN</td>\n",
       "      <td>244.0</td>\n",
       "    </tr>\n",
       "  </tbody>\n",
       "</table>\n",
       "</div>"
      ],
      "text/plain": [
       "code_presentation  2013B  2013J  2014B  2014J\n",
       "cohort                                       \n",
       "2013B              230.0  240.0  233.0  244.0\n",
       "2013J                NaN  240.0  233.0  244.0\n",
       "2014B                NaN    NaN  233.0  244.0\n",
       "2014J                NaN    NaN    NaN  244.0"
      ]
     },
     "execution_count": 54,
     "metadata": {},
     "output_type": "execute_result"
    }
   ],
   "source": [
    "avg_time(studentRegistration,studentAssessment,assessments )"
   ]
  },
  {
   "cell_type": "markdown",
   "metadata": {},
   "source": [
    "# Вывод"
   ]
  },
  {
   "cell_type": "markdown",
   "metadata": {},
   "source": [
    "семестр с  самыми долгими средними сроками сдачи курсов - 2014J"
   ]
  },
  {
   "cell_type": "markdown",
   "metadata": {},
   "source": [
    "Используя python, построй RFM-сегментацию пользователей, чтобы качественно оценить свою аудиторию. В кластеризации можешь выбрать следующие метрики:  R - среднее время сдачи одного экзамена, F - завершаемость курсов, M - среднее количество баллов, получаемое за экзамен."
   ]
  },
  {
   "cell_type": "code",
   "execution_count": 56,
   "metadata": {},
   "outputs": [],
   "source": [
    "\"\"\" объединяем датафреймы \"\"\"\n",
    "data = assessments.query(\"assessment_type == 'Exam'\")[['code_presentation', 'id_assessment', 'code_module']] \\\n",
    "                        .merge(courses, on = ['code_module', 'code_presentation']) \\\n",
    "                        .merge(studentAssessment, on = 'id_assessment') \n"
   ]
  },
  {
   "cell_type": "code",
   "execution_count": 57,
   "metadata": {},
   "outputs": [],
   "source": [
    "\"\"\" создаем флаг успешно сданного экзамена \"\"\"\n",
    "data['passed_exm'] = (data['score'] >= 40)*1"
   ]
  },
  {
   "cell_type": "code",
   "execution_count": 58,
   "metadata": {},
   "outputs": [],
   "source": [
    "\"\"\" определяем по студенту среднюю дату сдачи, среднюю оценку, кол-во экзаменов, кол-во успешно сданных экзаменов \"\"\"\n",
    "df = data.groupby('id_student', as_index = False)\\\n",
    "                            .agg({'date_submitted':'mean',\n",
    "                                  'score': 'mean',\n",
    "                                  'id_assessment': 'count',\n",
    "                                  'passed_exm': 'sum'})\n",
    "\n",
    "\"\"\" добавляем новый признак - завершаемость\"\"\"\n",
    "df['completion'] = df.passed_exm / df.id_assessment"
   ]
  },
  {
   "cell_type": "code",
   "execution_count": 59,
   "metadata": {},
   "outputs": [],
   "source": [
    "\"\"\" формируем кластеры по дате сдачи, завершаемости и оценкам \"\"\"\n",
    "total = df[['id_student', 'date_submitted', 'completion', 'score']] \\\n",
    "                        .rename(columns = {'date_submitted': 'R',\n",
    "                                           'completion' : 'F',\n",
    "                                           'score' : 'M'})"
   ]
  },
  {
   "cell_type": "code",
   "execution_count": 60,
   "metadata": {},
   "outputs": [
    {
     "data": {
      "text/plain": [
       "count    4633.000000\n",
       "mean      238.462227\n",
       "std         5.653378\n",
       "min       229.000000\n",
       "25%       234.000000\n",
       "50%       241.000000\n",
       "75%       243.000000\n",
       "max       285.000000\n",
       "Name: R, dtype: float64"
      ]
     },
     "execution_count": 60,
     "metadata": {},
     "output_type": "execute_result"
    }
   ],
   "source": [
    "# для разделения проверим кластер R, будем брать процентили\n",
    "total.R.describe()"
   ]
  },
  {
   "cell_type": "code",
   "execution_count": 61,
   "metadata": {},
   "outputs": [],
   "source": [
    "\"\"\" разделим кластер R на 4 части \"\"\"\n",
    "total['R_cluster'] = pd.qcut(total['R'], 4, ['1','2','3','4'])"
   ]
  },
  {
   "cell_type": "code",
   "execution_count": 62,
   "metadata": {},
   "outputs": [
    {
     "data": {
      "text/plain": [
       "array([1. , 0. , 0.5])"
      ]
     },
     "execution_count": 62,
     "metadata": {},
     "output_type": "execute_result"
    }
   ],
   "source": [
    "\"\"\" по завершаемости курсов есть 3 уникальных значения\n",
    "условно их можно поделить на :\n",
    "1 - не сдал ни один экзамен (значения 0 - 0.25 )\n",
    "2 - сдал один экзамен из 2х (значения 0.26 - 0.8)\n",
    "3 - сдал два экзамена (значения 0.81 - 1)\"\"\"\n",
    "total['F'].unique()\n"
   ]
  },
  {
   "cell_type": "code",
   "execution_count": 63,
   "metadata": {},
   "outputs": [
    {
     "data": {
      "text/plain": [
       "<matplotlib.axes._subplots.AxesSubplot at 0x7fc13ed8c4a8>"
      ]
     },
     "execution_count": 63,
     "metadata": {},
     "output_type": "execute_result"
    },
    {
     "data": {
      "image/png": "[encoded data removed]",
      "text/plain": [
       "<Figure size 432x288 with 1 Axes>"
      ]
     },
     "metadata": {
      "needs_background": "light"
     },
     "output_type": "display_data"
    }
   ],
   "source": [
    "# значения распределяются неравномерно -> будем использовать cut чтобы задать интервалы самостоятельно\n",
    "total['F'].hist()\n"
   ]
  },
  {
   "cell_type": "code",
   "execution_count": 64,
   "metadata": {},
   "outputs": [
    {
     "data": {
      "text/plain": [
       "1.0    4069\n",
       "0.0     536\n",
       "0.5      28\n",
       "Name: F, dtype: int64"
      ]
     },
     "execution_count": 64,
     "metadata": {},
     "output_type": "execute_result"
    }
   ],
   "source": [
    "total['F'].value_counts()"
   ]
  },
  {
   "cell_type": "code",
   "execution_count": 65,
   "metadata": {},
   "outputs": [],
   "source": [
    "\"\"\" разбивка на интервалы \"\"\"\n",
    "bins = [0, 0.25, 0.8, 1]\n",
    "labels = ['1', '2', '3']\n",
    "total['F_cluster'] = pd.cut(total['F'], bins, labels = labels )"
   ]
  },
  {
   "cell_type": "code",
   "execution_count": 66,
   "metadata": {},
   "outputs": [
    {
     "data": {
      "text/plain": [
       "3    4069\n",
       "2      28\n",
       "1       0\n",
       "Name: F_cluster, dtype: int64"
      ]
     },
     "execution_count": 66,
     "metadata": {},
     "output_type": "execute_result"
    }
   ],
   "source": [
    "total['F_cluster'].value_counts()"
   ]
  },
  {
   "cell_type": "code",
   "execution_count": 67,
   "metadata": {},
   "outputs": [
    {
     "data": {
      "text/plain": [
       "4633"
      ]
     },
     "execution_count": 67,
     "metadata": {},
     "output_type": "execute_result"
    },
    {
     "data": {
      "image/png": "[encoded data removed]",
      "text/plain": [
       "<Figure size 432x288 with 1 Axes>"
      ]
     },
     "metadata": {
      "needs_background": "light"
     },
     "output_type": "display_data"
    }
   ],
   "source": [
    "\"\"\" По среднему баллу студентов разделим на кластеры:\n",
    "\n",
    "М < 40 - не сдал - кластер 4\n",
    "далее с шагом в 20 баллов:\n",
    "40-69 баллов - тройка, кластер 3\n",
    "70-89 баллов - четверка, кластер 2\n",
    "90-100 - пятерка, кластер 1 \"\"\"\n",
    "\n",
    "total['M'].hist()\n",
    "total['M'].count()"
   ]
  },
  {
   "cell_type": "code",
   "execution_count": 68,
   "metadata": {},
   "outputs": [],
   "source": [
    "\"\"\" разбивка на интервалы \"\"\"\n",
    "bins = [0, 39, 69, 89, 100]\n",
    "labels = ['4','3','2', '1']\n",
    "total['M_cluster'] = pd.cut(total['M'], bins, labels = labels )"
   ]
  },
  {
   "cell_type": "code",
   "execution_count": 69,
   "metadata": {},
   "outputs": [
    {
     "data": {
      "text/plain": [
       "4630"
      ]
     },
     "execution_count": 69,
     "metadata": {},
     "output_type": "execute_result"
    }
   ],
   "source": [
    "total['M_cluster'].value_counts()\n",
    "total['M_cluster'].count()"
   ]
  },
  {
   "cell_type": "code",
   "execution_count": 70,
   "metadata": {},
   "outputs": [
    {
     "data": {
      "text/plain": [
       "['2', '3', '1', '4', NaN]\n",
       "Categories (4, object): ['4' < '3' < '2' < '1']"
      ]
     },
     "execution_count": 70,
     "metadata": {},
     "output_type": "execute_result"
    }
   ],
   "source": [
    "total['M_cluster'].unique()"
   ]
  },
  {
   "cell_type": "code",
   "execution_count": 71,
   "metadata": {},
   "outputs": [
    {
     "data": {
      "text/html": [
       "<div>\n",
       "<style scoped>\n",
       "    .dataframe tbody tr th:only-of-type {\n",
       "        vertical-align: middle;\n",
       "    }\n",
       "\n",
       "    .dataframe tbody tr th {\n",
       "        vertical-align: top;\n",
       "    }\n",
       "\n",
       "    .dataframe thead th {\n",
       "        text-align: right;\n",
       "    }\n",
       "</style>\n",
       "<table border=\"1\" class=\"dataframe\">\n",
       "  <thead>\n",
       "    <tr style=\"text-align: right;\">\n",
       "      <th></th>\n",
       "      <th>id_student</th>\n",
       "      <th>R</th>\n",
       "      <th>F</th>\n",
       "      <th>M</th>\n",
       "      <th>R_cluster</th>\n",
       "      <th>F_cluster</th>\n",
       "      <th>M_cluster</th>\n",
       "    </tr>\n",
       "  </thead>\n",
       "  <tbody>\n",
       "    <tr>\n",
       "      <th>0</th>\n",
       "      <td>23698</td>\n",
       "      <td>243.0</td>\n",
       "      <td>1.0</td>\n",
       "      <td>80.0</td>\n",
       "      <td>3</td>\n",
       "      <td>3</td>\n",
       "      <td>2</td>\n",
       "    </tr>\n",
       "    <tr>\n",
       "      <th>1</th>\n",
       "      <td>24213</td>\n",
       "      <td>236.0</td>\n",
       "      <td>1.0</td>\n",
       "      <td>58.0</td>\n",
       "      <td>2</td>\n",
       "      <td>3</td>\n",
       "      <td>3</td>\n",
       "    </tr>\n",
       "    <tr>\n",
       "      <th>2</th>\n",
       "      <td>27116</td>\n",
       "      <td>243.0</td>\n",
       "      <td>1.0</td>\n",
       "      <td>96.0</td>\n",
       "      <td>3</td>\n",
       "      <td>3</td>\n",
       "      <td>1</td>\n",
       "    </tr>\n",
       "    <tr>\n",
       "      <th>3</th>\n",
       "      <td>28046</td>\n",
       "      <td>237.0</td>\n",
       "      <td>1.0</td>\n",
       "      <td>40.0</td>\n",
       "      <td>2</td>\n",
       "      <td>3</td>\n",
       "      <td>3</td>\n",
       "    </tr>\n",
       "    <tr>\n",
       "      <th>4</th>\n",
       "      <td>28787</td>\n",
       "      <td>243.0</td>\n",
       "      <td>1.0</td>\n",
       "      <td>44.0</td>\n",
       "      <td>3</td>\n",
       "      <td>3</td>\n",
       "      <td>3</td>\n",
       "    </tr>\n",
       "    <tr>\n",
       "      <th>...</th>\n",
       "      <td>...</td>\n",
       "      <td>...</td>\n",
       "      <td>...</td>\n",
       "      <td>...</td>\n",
       "      <td>...</td>\n",
       "      <td>...</td>\n",
       "      <td>...</td>\n",
       "    </tr>\n",
       "    <tr>\n",
       "      <th>4628</th>\n",
       "      <td>2694886</td>\n",
       "      <td>236.0</td>\n",
       "      <td>1.0</td>\n",
       "      <td>69.0</td>\n",
       "      <td>2</td>\n",
       "      <td>3</td>\n",
       "      <td>3</td>\n",
       "    </tr>\n",
       "    <tr>\n",
       "      <th>4629</th>\n",
       "      <td>2694933</td>\n",
       "      <td>230.0</td>\n",
       "      <td>1.0</td>\n",
       "      <td>73.0</td>\n",
       "      <td>1</td>\n",
       "      <td>3</td>\n",
       "      <td>2</td>\n",
       "    </tr>\n",
       "    <tr>\n",
       "      <th>4630</th>\n",
       "      <td>2695608</td>\n",
       "      <td>237.0</td>\n",
       "      <td>1.0</td>\n",
       "      <td>73.0</td>\n",
       "      <td>2</td>\n",
       "      <td>3</td>\n",
       "      <td>2</td>\n",
       "    </tr>\n",
       "    <tr>\n",
       "      <th>4631</th>\n",
       "      <td>2697181</td>\n",
       "      <td>230.0</td>\n",
       "      <td>1.0</td>\n",
       "      <td>80.0</td>\n",
       "      <td>1</td>\n",
       "      <td>3</td>\n",
       "      <td>2</td>\n",
       "    </tr>\n",
       "    <tr>\n",
       "      <th>4632</th>\n",
       "      <td>2698251</td>\n",
       "      <td>234.0</td>\n",
       "      <td>1.0</td>\n",
       "      <td>44.0</td>\n",
       "      <td>1</td>\n",
       "      <td>3</td>\n",
       "      <td>3</td>\n",
       "    </tr>\n",
       "  </tbody>\n",
       "</table>\n",
       "<p>4633 rows × 7 columns</p>\n",
       "</div>"
      ],
      "text/plain": [
       "      id_student      R    F     M R_cluster F_cluster M_cluster\n",
       "0          23698  243.0  1.0  80.0         3         3         2\n",
       "1          24213  236.0  1.0  58.0         2         3         3\n",
       "2          27116  243.0  1.0  96.0         3         3         1\n",
       "3          28046  237.0  1.0  40.0         2         3         3\n",
       "4          28787  243.0  1.0  44.0         3         3         3\n",
       "...          ...    ...  ...   ...       ...       ...       ...\n",
       "4628     2694886  236.0  1.0  69.0         2         3         3\n",
       "4629     2694933  230.0  1.0  73.0         1         3         2\n",
       "4630     2695608  237.0  1.0  73.0         2         3         2\n",
       "4631     2697181  230.0  1.0  80.0         1         3         2\n",
       "4632     2698251  234.0  1.0  44.0         1         3         3\n",
       "\n",
       "[4633 rows x 7 columns]"
      ]
     },
     "execution_count": 71,
     "metadata": {},
     "output_type": "execute_result"
    }
   ],
   "source": [
    "# нулевые оценки отнесем к не сдавшим, 4 кластер\n",
    "total['M_cluster'] = total['M_cluster'].cat.add_categories('nan').fillna('4')\n",
    "total"
   ]
  },
  {
   "cell_type": "code",
   "execution_count": 72,
   "metadata": {},
   "outputs": [],
   "source": [
    "\"\"\" переводим значения в строку и склеиваем, чтобы посмотреть сегменты\"\"\"\n",
    "\n",
    "total['RFM'] = total.R_cluster.astype(str) + total.F_cluster.astype(str)+ total.M_cluster.astype(str)"
   ]
  },
  {
   "cell_type": "code",
   "execution_count": 73,
   "metadata": {},
   "outputs": [
    {
     "data": {
      "text/html": [
       "<div>\n",
       "<style scoped>\n",
       "    .dataframe tbody tr th:only-of-type {\n",
       "        vertical-align: middle;\n",
       "    }\n",
       "\n",
       "    .dataframe tbody tr th {\n",
       "        vertical-align: top;\n",
       "    }\n",
       "\n",
       "    .dataframe thead th {\n",
       "        text-align: right;\n",
       "    }\n",
       "</style>\n",
       "<table border=\"1\" class=\"dataframe\">\n",
       "  <thead>\n",
       "    <tr style=\"text-align: right;\">\n",
       "      <th></th>\n",
       "      <th>id_student</th>\n",
       "      <th>R</th>\n",
       "      <th>F</th>\n",
       "      <th>M</th>\n",
       "      <th>R_cluster</th>\n",
       "      <th>F_cluster</th>\n",
       "      <th>M_cluster</th>\n",
       "      <th>RFM</th>\n",
       "    </tr>\n",
       "  </thead>\n",
       "  <tbody>\n",
       "    <tr>\n",
       "      <th>0</th>\n",
       "      <td>23698</td>\n",
       "      <td>243.0</td>\n",
       "      <td>1.0</td>\n",
       "      <td>80.0</td>\n",
       "      <td>3</td>\n",
       "      <td>3</td>\n",
       "      <td>2</td>\n",
       "      <td>332</td>\n",
       "    </tr>\n",
       "    <tr>\n",
       "      <th>1</th>\n",
       "      <td>24213</td>\n",
       "      <td>236.0</td>\n",
       "      <td>1.0</td>\n",
       "      <td>58.0</td>\n",
       "      <td>2</td>\n",
       "      <td>3</td>\n",
       "      <td>3</td>\n",
       "      <td>233</td>\n",
       "    </tr>\n",
       "    <tr>\n",
       "      <th>2</th>\n",
       "      <td>27116</td>\n",
       "      <td>243.0</td>\n",
       "      <td>1.0</td>\n",
       "      <td>96.0</td>\n",
       "      <td>3</td>\n",
       "      <td>3</td>\n",
       "      <td>1</td>\n",
       "      <td>331</td>\n",
       "    </tr>\n",
       "    <tr>\n",
       "      <th>3</th>\n",
       "      <td>28046</td>\n",
       "      <td>237.0</td>\n",
       "      <td>1.0</td>\n",
       "      <td>40.0</td>\n",
       "      <td>2</td>\n",
       "      <td>3</td>\n",
       "      <td>3</td>\n",
       "      <td>233</td>\n",
       "    </tr>\n",
       "    <tr>\n",
       "      <th>4</th>\n",
       "      <td>28787</td>\n",
       "      <td>243.0</td>\n",
       "      <td>1.0</td>\n",
       "      <td>44.0</td>\n",
       "      <td>3</td>\n",
       "      <td>3</td>\n",
       "      <td>3</td>\n",
       "      <td>333</td>\n",
       "    </tr>\n",
       "    <tr>\n",
       "      <th>...</th>\n",
       "      <td>...</td>\n",
       "      <td>...</td>\n",
       "      <td>...</td>\n",
       "      <td>...</td>\n",
       "      <td>...</td>\n",
       "      <td>...</td>\n",
       "      <td>...</td>\n",
       "      <td>...</td>\n",
       "    </tr>\n",
       "    <tr>\n",
       "      <th>4628</th>\n",
       "      <td>2694886</td>\n",
       "      <td>236.0</td>\n",
       "      <td>1.0</td>\n",
       "      <td>69.0</td>\n",
       "      <td>2</td>\n",
       "      <td>3</td>\n",
       "      <td>3</td>\n",
       "      <td>233</td>\n",
       "    </tr>\n",
       "    <tr>\n",
       "      <th>4629</th>\n",
       "      <td>2694933</td>\n",
       "      <td>230.0</td>\n",
       "      <td>1.0</td>\n",
       "      <td>73.0</td>\n",
       "      <td>1</td>\n",
       "      <td>3</td>\n",
       "      <td>2</td>\n",
       "      <td>132</td>\n",
       "    </tr>\n",
       "    <tr>\n",
       "      <th>4630</th>\n",
       "      <td>2695608</td>\n",
       "      <td>237.0</td>\n",
       "      <td>1.0</td>\n",
       "      <td>73.0</td>\n",
       "      <td>2</td>\n",
       "      <td>3</td>\n",
       "      <td>2</td>\n",
       "      <td>232</td>\n",
       "    </tr>\n",
       "    <tr>\n",
       "      <th>4631</th>\n",
       "      <td>2697181</td>\n",
       "      <td>230.0</td>\n",
       "      <td>1.0</td>\n",
       "      <td>80.0</td>\n",
       "      <td>1</td>\n",
       "      <td>3</td>\n",
       "      <td>2</td>\n",
       "      <td>132</td>\n",
       "    </tr>\n",
       "    <tr>\n",
       "      <th>4632</th>\n",
       "      <td>2698251</td>\n",
       "      <td>234.0</td>\n",
       "      <td>1.0</td>\n",
       "      <td>44.0</td>\n",
       "      <td>1</td>\n",
       "      <td>3</td>\n",
       "      <td>3</td>\n",
       "      <td>133</td>\n",
       "    </tr>\n",
       "  </tbody>\n",
       "</table>\n",
       "<p>4633 rows × 8 columns</p>\n",
       "</div>"
      ],
      "text/plain": [
       "      id_student      R    F     M R_cluster F_cluster M_cluster  RFM\n",
       "0          23698  243.0  1.0  80.0         3         3         2  332\n",
       "1          24213  236.0  1.0  58.0         2         3         3  233\n",
       "2          27116  243.0  1.0  96.0         3         3         1  331\n",
       "3          28046  237.0  1.0  40.0         2         3         3  233\n",
       "4          28787  243.0  1.0  44.0         3         3         3  333\n",
       "...          ...    ...  ...   ...       ...       ...       ...  ...\n",
       "4628     2694886  236.0  1.0  69.0         2         3         3  233\n",
       "4629     2694933  230.0  1.0  73.0         1         3         2  132\n",
       "4630     2695608  237.0  1.0  73.0         2         3         2  232\n",
       "4631     2697181  230.0  1.0  80.0         1         3         2  132\n",
       "4632     2698251  234.0  1.0  44.0         1         3         3  133\n",
       "\n",
       "[4633 rows x 8 columns]"
      ]
     },
     "execution_count": 73,
     "metadata": {},
     "output_type": "execute_result"
    }
   ],
   "source": [
    "total"
   ]
  },
  {
   "cell_type": "markdown",
   "metadata": {},
   "source": []
  }
 ],
 "metadata": {
  "kernelspec": {
   "display_name": "Python 3",
   "language": "python",
   "name": "python3"
  },
  "language_info": {
   "codemirror_mode": {
    "name": "ipython",
    "version": 3
   },
   "file_extension": ".py",
   "mimetype": "text/x-python",
   "name": "python",
   "nbconvert_exporter": "python",
   "pygments_lexer": "ipython3",
   "version": "3.7.3"
  }
 },
 "nbformat": 4,
 "nbformat_minor": 4
}
